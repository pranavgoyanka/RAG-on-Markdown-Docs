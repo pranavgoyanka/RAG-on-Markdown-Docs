{
 "cells": [
  {
   "cell_type": "code",
   "execution_count": 29,
   "metadata": {},
   "outputs": [],
   "source": [
    "import numpy as np\n",
    "import pandas as pd"
   ]
  },
  {
   "cell_type": "markdown",
   "metadata": {},
   "source": [
    "# Loading the Dataset\n"
   ]
  },
  {
   "cell_type": "code",
   "execution_count": 30,
   "metadata": {},
   "outputs": [
    {
     "name": "stdout",
     "output_type": "stream",
     "text": [
      "[{'key': '**Table of Contents**',\n",
      "  'value': \"['[**OmniFlow Documentation**](#omniflow-documentation)', \"\n",
      "           \"['[**Table of Contents**](#table-of-contents)', '[**1. \"\n",
      "           \"Introduction**](#1-introduction)', ['[**Overview**](#overview)', \"\n",
      "           \"'[**Purpose**](#purpose)', '[**Key Features**](#key-features)', \"\n",
      "           \"'[**System Requirements**](#system-requirements)'], '[**2. \"\n",
      "           \"Installation Guide**](#2-installation-guide)', \"\n",
      "           \"['[**Pre-installation Checklist**](#pre-installation-checklist)', \"\n",
      "           \"'[**Installation Steps**](#installation-steps)', \"\n",
      "           \"'[**Post-installation \"\n",
      "           \"Configuration**](#post-installation-configuration)'], '[**3. User \"\n",
      "           \"Guide**](#3-user-guide)', ['[**Getting \"\n",
      "           \"Started**](#getting-started)', '[**Basic \"\n",
      "           \"Operations**](#basic-operations)', '[**Advanced \"\n",
      "           \"Features**](#advanced-features)', '[**Best \"\n",
      "           \"Practices**](#best-practices)'], '[**4. API \"\n",
      "           \"Documentation**](#4-api-documentation)', ['[**API \"\n",
      "           \"Overview**](#api-overview)', \"\n",
      "           \"'[**Authentication**](#authentication)', \"\n",
      "           \"'[**Endpoints**](#endpoints)', ['[**GET /tasks**](#get-tasks)', \"\n",
      "           \"'[**POST /tasks**](#post-tasks)'], '[**Error \"\n",
      "           \"Handling**](#error-handling)'], '[**5. \"\n",
      "           \"Troubleshooting**](#5-troubleshooting)', ['[**Common \"\n",
      "           \"Issues**](#common-issues)', '[**FAQ**](#faq)', \"\n",
      "           \"'[**Support**](#support)'], '[**6. Changelog**](#6-changelog)', \"\n",
      "           \"'[**7. Licensing and Legal**](#7-licensing-and-legal)', '[**8. \"\n",
      "           \"Appendices**](#8-appendices)']]\"},\n",
      " {'key': '**Overview**',\n",
      "  'value': 'OmniFlow is a versatile, cross-platform application designed to '\n",
      "           'streamline workflows and enhance productivity in both individual '\n",
      "           'and team environments. The software integrates with various tools '\n",
      "           'and platforms, offering a unified interface for managing tasks, '\n",
      "           'communications, and data analytics.'},\n",
      " {'key': '**Purpose**',\n",
      "  'value': 'The primary purpose of OmniFlow is to provide a flexible and '\n",
      "           'scalable solution for project management, data analysis, and '\n",
      "           'collaboration, making it ideal for small businesses, freelancers, '\n",
      "           'and enterprise teams.'},\n",
      " {'key': '**Key Features**',\n",
      "  'value': \"['**Task Management:** Organize, prioritize, and track tasks with \"\n",
      "           \"customizable workflows.', '**Collaboration Tools:** Real-time \"\n",
      "           \"messaging, file sharing, and integrated video conferencing.', \"\n",
      "           \"'**Data Analytics:** Built-in tools for generating reports and \"\n",
      "           \"visualizing data trends.', '**Third-Party Integrations:** Seamless \"\n",
      "           'integration with popular tools like Slack, Google Workspace, and '\n",
      "           \"Microsoft Teams.', '**Cross-Platform Compatibility:** Available on \"\n",
      "           \"Windows, macOS, Linux, iOS, and Android.']\"},\n",
      " {'key': '**System Requirements**',\n",
      "  'value': \"['**Operating System:** Windows 10 or later, macOS 10.14 or later, \"\n",
      "           'Linux (various distributions), iOS 13 or later, Android 8.0 or '\n",
      "           \"later.', '**Processor:** Dual-core CPU, 2.0 GHz or faster.', \"\n",
      "           \"'**Memory:** 4 GB RAM (8 GB recommended).', '**Storage:** 500 MB \"\n",
      "           \"available space.', '**Internet Connection:** Required for \"\n",
      "           \"cloud-based features and updates.']\"},\n",
      " {'key': '**Pre-installation Checklist**',\n",
      "  'value': \"['Verify that your system meets the [system \"\n",
      "           \"requirements](#system-requirements).', 'Ensure you have \"\n",
      "           \"administrative privileges for installation.', 'Disable any \"\n",
      "           'antivirus software temporarily to avoid conflicts during '\n",
      "           \"installation.']\"},\n",
      " {'key': '**Installation Steps**',\n",
      "  'value': \"['**Download:** Go to the [OmniFlow \"\n",
      "           'website](https://www.omniflow.com/download) and download the '\n",
      "           \"appropriate installer for your operating system.', '**Run the \"\n",
      "           'Installer:** Open the downloaded file and follow the on-screen '\n",
      "           \"instructions.', '**License Agreement:** Read and accept the \"\n",
      "           \"End-User License Agreement (EULA).', '**Choose Installation \"\n",
      "           'Path:** Select the directory where you want OmniFlow to be '\n",
      "           'installed.\\', \"**Complete Installation:** Click \\'Install\\' and '\n",
      "           'wait for the process to complete.\"]'},\n",
      " {'key': '**Post-installation Configuration**',\n",
      "  'value': '[\"**Initial Setup:** Upon first launch, you\\'ll be guided through '\n",
      "           'setting up your OmniFlow account and configuring basic settings.\", '\n",
      "           '\"**Update Preferences:** Check for updates to ensure you\\'re '\n",
      "           'running the latest version.\", \\'**Connect Integrations:** Link '\n",
      "           \"OmniFlow with your preferred third-party tools.']\"},\n",
      " {'key': '**Getting Started**',\n",
      "  'value': \"['**Launching OmniFlow:** Double-click the OmniFlow icon on your \"\n",
      "           \"desktop or find it in your applications folder.', '**Creating a \"\n",
      "           'Project:** Start a new project by clicking the \"New Project\" '\n",
      "           \"button and entering the project details.', '**Navigating the \"\n",
      "           'Interface:** Familiarize yourself with the main dashboard, side '\n",
      "           \"menu, and toolbar.']\"},\n",
      " {'key': '**Basic Operations**',\n",
      "  'value': \"['**Task Management:** Create, assign, and track tasks within your \"\n",
      "           \"project.', '**Collaboration:** Use the chat feature for instant \"\n",
      "           \"communication with team members.', '**File Sharing:** Upload and \"\n",
      "           'share documents, images, and other files directly within the '\n",
      "           \"project.']\"},\n",
      " {'key': '**Advanced Features**',\n",
      "  'value': \"['**Automations:** Set up workflows that automate repetitive \"\n",
      "           'tasks.\\', \"**Custom Reports:** Generate detailed reports tailored '\n",
      "           'to your project\\'s needs.\", \\'**API Integration:** Use the '\n",
      "           \"OmniFlow API to connect with other software and automate tasks.']\"},\n",
      " {'key': '**Best Practices**',\n",
      "  'value': \"['**Regular Backups:** Ensure your data is regularly backed up to \"\n",
      "           \"avoid loss.', '**User Permissions:** Manage user roles and \"\n",
      "           \"permissions carefully to maintain security.', '**Stay Updated:** \"\n",
      "           'Regularly check for software updates to access new features and '\n",
      "           \"improvements.']\"},\n",
      " {'key': '**API Overview**',\n",
      "  'value': 'OmniFlow provides a RESTful API that allows developers to interact '\n",
      "           'programmatically with the platform. This API enables the '\n",
      "           'integration of OmniFlow with other software systems.'},\n",
      " {'key': '**Authentication**',\n",
      "  'value': \"['**API Key:** Generate an API key from your OmniFlow account \"\n",
      "           \"settings.', '**OAuth 2.0:** OmniFlow supports OAuth 2.0 for secure \"\n",
      "           \"authentication.']\"},\n",
      " {'key': '**GET /tasks**',\n",
      "  'value': \"['**Description:** Fetches a list of all tasks within a specified \"\n",
      "           \"project.', '**Parameters:**', ['`project_id` (required): The ID of \"\n",
      "           \"the project.', '`status` (optional): Filter tasks by status (e.g., \"\n",
      "           \"`completed`, `in-progress`).'], '**Response:** A JSON object \"\n",
      "           \"containing the list of tasks.']\"},\n",
      " {'key': '**POST /tasks**',\n",
      "  'value': \"['**Description:** Creates a new task within a specified \"\n",
      "           \"project.', '**Parameters:**', ['`project_id` (required): The ID of \"\n",
      "           \"the project.', '`task_name` (required): The name of the task.', \"\n",
      "           \"'`assigned_to` (optional): The user ID of the assignee.'], \"\n",
      "           \"'**Response:** A JSON object containing the details of the created \"\n",
      "           \"task.']\"},\n",
      " {'key': '**Error Handling**',\n",
      "  'value': \"['**400 Bad Request:** The request was invalid or missing required \"\n",
      "           \"parameters.', '**401 Unauthorized:** Authentication failed or API \"\n",
      "           \"key is invalid.', '**500 Internal Server Error:** An error \"\n",
      "           \"occurred on the server side.']\"},\n",
      " {'key': '**Common Issues**',\n",
      "  'value': \"['**Installation Errors:** Ensure you have sufficient permissions \"\n",
      "           \"and disable antivirus software during installation.', \"\n",
      "           \"'**Connection Problems:** Check your internet connection and \"\n",
      "           \"firewall settings.', '**Performance Issues:** Close unnecessary \"\n",
      "           'applications and ensure your system meets the recommended '\n",
      "           \"specifications.']\"},\n",
      " {'key': '**FAQ**',\n",
      "  'value': \"['**How do I reset my password?** Go to the login page and click \"\n",
      "           '\"Forgot Password\" to receive a reset link via email.\\', \\'**Can I '\n",
      "           'use OmniFlow offline?** Some features are available offline, but '\n",
      "           \"full functionality requires an internet connection.']\"},\n",
      " {'key': '**Support**',\n",
      "  'value': \"['**Documentation:** Visit the [OmniFlow Help \"\n",
      "           \"Center](https://www.omniflow.com/help) for detailed guides.', \"\n",
      "           \"'**Contact Support:** Reach out to our support team via email at \"\n",
      "           \"support-potato@omniflow.com.']\"},\n",
      " {'key': '**6. Changelog**',\n",
      "  'value': \"['**v1.0.0:** Initial release with core features including task \"\n",
      "           \"management, collaboration tools, and data analytics.', \"\n",
      "           \"'**v1.1.0:** Added third-party integrations and improved \"\n",
      "           \"performance.', '**v1.2.0:** Introduced API support and advanced \"\n",
      "           \"reporting features.']\"},\n",
      " {'key': '**7. Licensing and Legal**',\n",
      "  'value': \"['**License Agreement:** OmniFlow is licensed under the [MIT \"\n",
      "           \"License](https://opensource.org/licenses/MIT).', '**Terms of \"\n",
      "           'Service:** By using OmniFlow, you agree to our [Terms of '\n",
      "           \"Service](https://www.omniflow.com/terms).', '**Privacy Policy:** \"\n",
      "           'Your data is protected under our [Privacy '\n",
      "           \"Policy](https://www.omniflow.com/privacy).']\"},\n",
      " {'key': '**8. Appendices**',\n",
      "  'value': \"['**Appendix A:** [Keyboard Shortcuts](#keyboard-shortcuts)', \"\n",
      "           \"'**Appendix B:** [Glossary of Terms](#glossary-of-terms)']\"}]\n"
     ]
    }
   ],
   "source": [
    "import markdown_to_json\n",
    "import pprint\n",
    "\n",
    "with open('./data/omniflow_documentation_complete.md', 'r') as file:\n",
    "    data = file.read()\n",
    "    \n",
    "    \n",
    "# print(data)\n",
    "\n",
    "md_dict = markdown_to_json.dictify(data)\n",
    "\n",
    "# pprint.pprint(md_dict)\n",
    "\n",
    "# DFS into the dictionary \n",
    "# start from the first set of keys?\n",
    "def dfs_dict(d, path):\n",
    "    if path is None:\n",
    "        path = []\n",
    "        \n",
    "    for key, value in d.items():\n",
    "        # path.append({\"key\": key, \"value\": str(value)})\n",
    "        \n",
    "        if isinstance(value, dict):\n",
    "            # Recursively apply DFS if the value is another dictionary\n",
    "            dfs_dict(value, path)\n",
    "        else:\n",
    "            # Reached the end\n",
    "            # cleanup the value and key\n",
    "            \n",
    "            path.append({\"key\": key, \"value\": str(value)})\n",
    "\n",
    "all_md_keys_dict = []        \n",
    "dfs_dict(md_dict, all_md_keys_dict)\n",
    "\n",
    "pprint.pprint(all_md_keys_dict)"
   ]
  },
  {
   "cell_type": "code",
   "execution_count": 31,
   "metadata": {},
   "outputs": [
    {
     "data": {
      "text/html": [
       "<div>\n",
       "<style scoped>\n",
       "    .dataframe tbody tr th:only-of-type {\n",
       "        vertical-align: middle;\n",
       "    }\n",
       "\n",
       "    .dataframe tbody tr th {\n",
       "        vertical-align: top;\n",
       "    }\n",
       "\n",
       "    .dataframe thead th {\n",
       "        text-align: right;\n",
       "    }\n",
       "</style>\n",
       "<table border=\"1\" class=\"dataframe\">\n",
       "  <thead>\n",
       "    <tr style=\"text-align: right;\">\n",
       "      <th></th>\n",
       "      <th>key</th>\n",
       "      <th>value</th>\n",
       "      <th>id</th>\n",
       "    </tr>\n",
       "  </thead>\n",
       "  <tbody>\n",
       "    <tr>\n",
       "      <th>0</th>\n",
       "      <td>**Table of Contents**</td>\n",
       "      <td>['[**OmniFlow Documentation**](#omniflow-docum...</td>\n",
       "      <td>0</td>\n",
       "    </tr>\n",
       "    <tr>\n",
       "      <th>1</th>\n",
       "      <td>**Overview**</td>\n",
       "      <td>OmniFlow is a versatile, cross-platform applic...</td>\n",
       "      <td>1</td>\n",
       "    </tr>\n",
       "    <tr>\n",
       "      <th>2</th>\n",
       "      <td>**Purpose**</td>\n",
       "      <td>The primary purpose of OmniFlow is to provide ...</td>\n",
       "      <td>2</td>\n",
       "    </tr>\n",
       "    <tr>\n",
       "      <th>3</th>\n",
       "      <td>**Key Features**</td>\n",
       "      <td>['**Task Management:** Organize, prioritize, a...</td>\n",
       "      <td>3</td>\n",
       "    </tr>\n",
       "    <tr>\n",
       "      <th>4</th>\n",
       "      <td>**System Requirements**</td>\n",
       "      <td>['**Operating System:** Windows 10 or later, m...</td>\n",
       "      <td>4</td>\n",
       "    </tr>\n",
       "  </tbody>\n",
       "</table>\n",
       "</div>"
      ],
      "text/plain": [
       "                       key                                              value  \\\n",
       "0    **Table of Contents**  ['[**OmniFlow Documentation**](#omniflow-docum...   \n",
       "1             **Overview**  OmniFlow is a versatile, cross-platform applic...   \n",
       "2              **Purpose**  The primary purpose of OmniFlow is to provide ...   \n",
       "3         **Key Features**  ['**Task Management:** Organize, prioritize, a...   \n",
       "4  **System Requirements**  ['**Operating System:** Windows 10 or later, m...   \n",
       "\n",
       "   id  \n",
       "0   0  \n",
       "1   1  \n",
       "2   2  \n",
       "3   3  \n",
       "4   4  "
      ]
     },
     "execution_count": 31,
     "metadata": {},
     "output_type": "execute_result"
    }
   ],
   "source": [
    "# Create a dataframe out of all of the doc\n",
    "md_df = pd.DataFrame.from_dict(all_md_keys_dict)\n",
    "md_df['id'] = md_df.index\n",
    "md_df.head(5)"
   ]
  },
  {
   "cell_type": "markdown",
   "metadata": {},
   "source": [
    "# Cleanup the data"
   ]
  },
  {
   "cell_type": "code",
   "execution_count": 32,
   "metadata": {},
   "outputs": [],
   "source": [
    "import re\n",
    "\n",
    "\n",
    "# Function to clean up markdown syntax\n",
    "def clean_markdown(line):\n",
    "    # Remove headers (e.g., # Header, ## Header)\n",
    "    line = re.sub(r'^#+\\s', '', line)\n",
    "    # Remove bold and italics (e.g., **bold**, *italic*)\n",
    "    line = re.sub(r'\\*\\*(.*?)\\*\\*', r'\\1', line)\n",
    "    line = re.sub(r'\\*(.*?)\\*', r'\\1', line)\n",
    "    # Remove inline code (e.g., `code`)\n",
    "    line = re.sub(r'`(.*?)`', r'\\1', line)\n",
    "    # Remove links (e.g., [text](url))\n",
    "    line = re.sub(r'\\[(.*?)\\]\\((.*?)\\)', r'\\1', line)\n",
    "    # Remove images (e.g., ![alt text](url))\n",
    "    line = re.sub(r'!\\[(.*?)\\]\\((.*?)\\)', r'\\1', line)\n",
    "    # Remove blockquotes (e.g., > Quote)\n",
    "    line = re.sub(r'^>\\s', '', line)\n",
    "    # Remove unordered list items (e.g., - Item, * Item)\n",
    "    line = re.sub(r'^[-*]\\s', '', line)\n",
    "    # Remove ordered list items (e.g., 1. Item)\n",
    "    line = re.sub(r'^\\d+\\.\\s', '', line)\n",
    "    # Remove horizontal rules (e.g., ---)\n",
    "    line = re.sub(r'^-{3,}$', '', line)\n",
    "    # Remove other markdown artifacts as needed\n",
    "    return line.strip()\n",
    "\n",
    "# # Clean each line and store in the cleaned_lines list\n",
    "# cleaned_lines = [clean_markdown(line) for line in lines]\n",
    "\n",
    "# # The 'cleaned_lines' variable now contains the cleaned list of strings\n",
    "# cleaned_lines\n"
   ]
  },
  {
   "cell_type": "code",
   "execution_count": 33,
   "metadata": {},
   "outputs": [],
   "source": [
    "md_df['key'] = md_df['key'].apply(clean_markdown)\n",
    "md_df['value'] = md_df['value'].apply(clean_markdown)"
   ]
  },
  {
   "cell_type": "code",
   "execution_count": 34,
   "metadata": {},
   "outputs": [
    {
     "data": {
      "text/html": [
       "<div>\n",
       "<style scoped>\n",
       "    .dataframe tbody tr th:only-of-type {\n",
       "        vertical-align: middle;\n",
       "    }\n",
       "\n",
       "    .dataframe tbody tr th {\n",
       "        vertical-align: top;\n",
       "    }\n",
       "\n",
       "    .dataframe thead th {\n",
       "        text-align: right;\n",
       "    }\n",
       "</style>\n",
       "<table border=\"1\" class=\"dataframe\">\n",
       "  <thead>\n",
       "    <tr style=\"text-align: right;\">\n",
       "      <th></th>\n",
       "      <th>key</th>\n",
       "      <th>value</th>\n",
       "      <th>id</th>\n",
       "    </tr>\n",
       "  </thead>\n",
       "  <tbody>\n",
       "    <tr>\n",
       "      <th>0</th>\n",
       "      <td>Table of Contents</td>\n",
       "      <td>'[OmniFlow Documentation', '[Table of Contents...</td>\n",
       "      <td>0</td>\n",
       "    </tr>\n",
       "    <tr>\n",
       "      <th>1</th>\n",
       "      <td>Overview</td>\n",
       "      <td>OmniFlow is a versatile, cross-platform applic...</td>\n",
       "      <td>1</td>\n",
       "    </tr>\n",
       "    <tr>\n",
       "      <th>2</th>\n",
       "      <td>Purpose</td>\n",
       "      <td>The primary purpose of OmniFlow is to provide ...</td>\n",
       "      <td>2</td>\n",
       "    </tr>\n",
       "  </tbody>\n",
       "</table>\n",
       "</div>"
      ],
      "text/plain": [
       "                 key                                              value  id\n",
       "0  Table of Contents  '[OmniFlow Documentation', '[Table of Contents...   0\n",
       "1           Overview  OmniFlow is a versatile, cross-platform applic...   1\n",
       "2            Purpose  The primary purpose of OmniFlow is to provide ...   2"
      ]
     },
     "execution_count": 34,
     "metadata": {},
     "output_type": "execute_result"
    }
   ],
   "source": [
    "md_df.head(3)"
   ]
  },
  {
   "cell_type": "markdown",
   "metadata": {},
   "source": [
    "# ChromaDB"
   ]
  },
  {
   "cell_type": "code",
   "execution_count": 35,
   "metadata": {},
   "outputs": [],
   "source": [
    "import chromadb\n",
    "from chromadb.config import Settings"
   ]
  },
  {
   "cell_type": "code",
   "execution_count": 36,
   "metadata": {},
   "outputs": [],
   "source": [
    "chroma_client = chromadb.PersistentClient(path=\"./db\")"
   ]
  },
  {
   "cell_type": "code",
   "execution_count": 37,
   "metadata": {},
   "outputs": [],
   "source": [
    "collection_name = \"md_collection\"\n",
    "\n",
    "# delete the collection if it already exists\n",
    "if len(chroma_client.list_collections()) > 0 and collection_name in [chroma_client.list_collections()[0].name]:\n",
    "        chroma_client.delete_collection(name=collection_name)\n",
    "collection = chroma_client.create_collection(name=collection_name)"
   ]
  },
  {
   "cell_type": "code",
   "execution_count": 38,
   "metadata": {},
   "outputs": [],
   "source": [
    "# some constants\n",
    "DOCUMENT=\"value\"\n",
    "TOPIC=\"key\""
   ]
  },
  {
   "cell_type": "code",
   "execution_count": 39,
   "metadata": {},
   "outputs": [],
   "source": [
    "# populate the collection\n",
    "collection.add(\n",
    "    documents=md_df[DOCUMENT].tolist(),\n",
    "    metadatas=[{TOPIC: topic} for topic in md_df[TOPIC].tolist()],\n",
    "    ids=[f\"id{x}\" for x in range(len(md_df))],\n",
    ")"
   ]
  },
  {
   "cell_type": "code",
   "execution_count": 40,
   "metadata": {},
   "outputs": [
    {
     "data": {
      "text/plain": [
       "23"
      ]
     },
     "execution_count": 40,
     "metadata": {},
     "output_type": "execute_result"
    }
   ],
   "source": [
    "len(md_df)"
   ]
  },
  {
   "cell_type": "markdown",
   "metadata": {},
   "source": [
    "# Querying the database"
   ]
  },
  {
   "cell_type": "code",
   "execution_count": 41,
   "metadata": {},
   "outputs": [
    {
     "name": "stdout",
     "output_type": "stream",
     "text": [
      "{'data': None,\n",
      " 'distances': [[1.0831094102464416, 1.1107773940186252, 1.2292424829248871]],\n",
      " 'documents': [[\"'Verify that your system meets the [system requirements.', \"\n",
      "                \"'Ensure you have administrative privileges for \"\n",
      "                \"installation.', 'Disable any antivirus software temporarily \"\n",
      "                \"to avoid conflicts during installation.']\",\n",
      "                \"['Installation Errors: Ensure you have sufficient permissions \"\n",
      "                \"and disable antivirus software during installation.', \"\n",
      "                \"'Connection Problems: Check your internet connection and \"\n",
      "                \"firewall settings.', 'Performance Issues: Close unnecessary \"\n",
      "                'applications and ensure your system meets the recommended '\n",
      "                \"specifications.']\",\n",
      "                \"'Download: Go to the [OmniFlow website and download the \"\n",
      "                \"appropriate installer for your operating system.', 'Run the \"\n",
      "                'Installer: Open the downloaded file and follow the on-screen '\n",
      "                \"instructions.', 'License Agreement: Read and accept the \"\n",
      "                \"End-User License Agreement (EULA).', 'Choose Installation \"\n",
      "                'Path: Select the directory where you want OmniFlow to be '\n",
      "                'installed.\\', \"Complete Installation: Click \\'Install\\' and '\n",
      "                'wait for the process to complete.\"]']],\n",
      " 'embeddings': None,\n",
      " 'ids': [['id5', 'id17', 'id6']],\n",
      " 'metadatas': [[{'key': 'Pre-installation Checklist'},\n",
      "                {'key': 'Common Issues'},\n",
      "                {'key': 'Installation Steps'}]],\n",
      " 'uris': None}\n"
     ]
    }
   ],
   "source": [
    "import pprint\n",
    "results = collection.query(query_texts=[\"how to install\"], n_results=3 )\n",
    "\n",
    "pprint.pprint(results)"
   ]
  },
  {
   "cell_type": "markdown",
   "metadata": {},
   "source": [
    "# Loading the Model and Creating the Prompt"
   ]
  },
  {
   "cell_type": "code",
   "execution_count": 42,
   "metadata": {},
   "outputs": [],
   "source": [
    "from transformers import AutoTokenizer, AutoModelForCausalLM, pipeline\n",
    "\n",
    "model_id = \"TinyLlama/TinyLlama-1.1B-Chat-v1.0\"\n",
    "#model_id = \"databricks/dolly-v2-3b\"\n",
    "tokenizer = AutoTokenizer.from_pretrained(model_id)\n",
    "lm_model = AutoModelForCausalLM.from_pretrained(model_id, trust_remote_code=True)"
   ]
  },
  {
   "cell_type": "code",
   "execution_count": 43,
   "metadata": {},
   "outputs": [],
   "source": [
    "pipe = pipeline(\n",
    "    \"text-generation\",\n",
    "    model=lm_model,\n",
    "    tokenizer=tokenizer,\n",
    "    max_new_tokens=256,\n",
    "    device_map=\"auto\",\n",
    ")"
   ]
  },
  {
   "cell_type": "markdown",
   "metadata": {},
   "source": [
    "# Getting Keywords from a Question"
   ]
  },
  {
   "cell_type": "code",
   "execution_count": 44,
   "metadata": {},
   "outputs": [],
   "source": [
    "from sklearn.feature_extraction.text import TfidfVectorizer"
   ]
  },
  {
   "cell_type": "code",
   "execution_count": 45,
   "metadata": {},
   "outputs": [],
   "source": [
    "def extract_keywords_tfidf(text, num_keywords=5):\n",
    "    vectorizer = TfidfVectorizer(stop_words='english')\n",
    "    tfidf_matrix = vectorizer.fit_transform([text])\n",
    "    feature_names = vectorizer.get_feature_names_out()\n",
    "    tfidf_scores = tfidf_matrix.toarray()[0]\n",
    "    keywords = sorted(list(zip(feature_names, tfidf_scores)), key=lambda x: x[1], reverse=True)\n",
    "    return [word for word, score in keywords[:num_keywords]]"
   ]
  },
  {
   "cell_type": "code",
   "execution_count": 46,
   "metadata": {},
   "outputs": [
    {
     "name": "stdout",
     "output_type": "stream",
     "text": [
      "['needed', 'omniflow', 'ram']\n"
     ]
    }
   ],
   "source": [
    "text = \"How much RAM is needed for Omniflow?\"\n",
    "keywords = extract_keywords_tfidf(text)\n",
    "print(keywords)"
   ]
  },
  {
   "cell_type": "code",
   "execution_count": 47,
   "metadata": {},
   "outputs": [],
   "source": [
    "def getContextFromDB(keywords, results_to_use=1):\n",
    "  ctxs = []\n",
    "  for keyword in keywords:\n",
    "    ctxs.append(collection.query(query_texts=[keyword], n_results=results_to_use))\n",
    "  context = \"\"\n",
    "  for ctx in ctxs:\n",
    "    temp = \" \".join([f\"#{str(i)}\" for i in ctx[\"documents\"][0]])\n",
    "    context = context + \" \" + temp\n",
    "  return context"
   ]
  },
  {
   "cell_type": "markdown",
   "metadata": {},
   "source": [
    "# Creating the Extended Prompt"
   ]
  },
  {
   "cell_type": "code",
   "execution_count": 48,
   "metadata": {},
   "outputs": [],
   "source": [
    "def generate_extended_prompt(question, context_to_lookup=None, results_to_use=1):\n",
    "  context = \"\"\n",
    "  # lookup the vector database for semantically similar data\n",
    "  if (context_to_lookup):\n",
    "    # ctxs = collection.query(query_texts=[context_to_lookup], n_results=results_to_use)\n",
    "    # # join all the results\n",
    "    # context = \" \".join([f\"#{str(i)}\" for i in ctxs[\"documents\"][0]])\n",
    "    context = getContextFromDB(context_to_lookup, results_to_use)\n",
    "    \n",
    "  # populate the prompt template\n",
    "  prompt_template = f\"\"\"\n",
    "  Relevant context: {context}\n",
    "  Considering the above context, answer the following question.\n",
    "  Question: {question}\n",
    "  \"\"\"\n",
    "  return prompt_template"
   ]
  },
  {
   "cell_type": "code",
   "execution_count": 49,
   "metadata": {},
   "outputs": [
    {
     "name": "stdout",
     "output_type": "stream",
     "text": [
      "\n",
      "  Relevant context:  #['Description: Fetches a list of all tasks within a specified project.', 'Parameters:', ['project_id (required): The ID of the project.', 'status (optional): Filter tasks by status (e.g., completed, in-progress).'], 'Response: A JSON object containing the list of tasks.'] #OmniFlow is a versatile, cross-platform application designed to streamline workflows and enhance productivity in both individual and team environments. The software integrates with various tools and platforms, offering a unified interface for managing tasks, communications, and data analytics. #['Operating System: Windows 10 or later, macOS 10.14 or later, Linux (various distributions), iOS 13 or later, Android 8.0 or later.', 'Processor: Dual-core CPU, 2.0 GHz or faster.', 'Memory: 4 GB RAM (8 GB recommended).', 'Storage: 500 MB available space.', 'Internet Connection: Required for cloud-based features and updates.']\n",
      "  Considering the above context, answer the following question.\n",
      "  Question: How much RAM is needed for Omniflow?\n",
      "  \n"
     ]
    }
   ],
   "source": [
    "question = \"How much RAM is needed for Omniflow?\"\n",
    "ctx_lookup = extract_keywords_tfidf(question)\n",
    "ext_prompt = generate_extended_prompt(question, ctx_lookup, 1)\n",
    "print(ext_prompt)"
   ]
  },
  {
   "cell_type": "code",
   "execution_count": 50,
   "metadata": {},
   "outputs": [
    {
     "name": "stdout",
     "output_type": "stream",
     "text": [
      "\n",
      "  Relevant context:  #['Description: Fetches a list of all tasks within a specified project.', 'Parameters:', ['project_id (required): The ID of the project.', 'status (optional): Filter tasks by status (e.g., completed, in-progress).'], 'Response: A JSON object containing the list of tasks.'] #OmniFlow is a versatile, cross-platform application designed to streamline workflows and enhance productivity in both individual and team environments. The software integrates with various tools and platforms, offering a unified interface for managing tasks, communications, and data analytics. #['Operating System: Windows 10 or later, macOS 10.14 or later, Linux (various distributions), iOS 13 or later, Android 8.0 or later.', 'Processor: Dual-core CPU, 2.0 GHz or faster.', 'Memory: 4 GB RAM (8 GB recommended).', 'Storage: 500 MB available space.', 'Internet Connection: Required for cloud-based features and updates.']\n",
      "  Considering the above context, answer the following question.\n",
      "  Question: How much RAM is needed for Omniflow?\n",
      "  \n",
      "  Answer: The software requires 4 GB RAM (8 GB recommended) to run smoothly.\n"
     ]
    }
   ],
   "source": [
    "lm_response = pipe(ext_prompt)\n",
    "print(lm_response[0][\"generated_text\"])"
   ]
  },
  {
   "cell_type": "markdown",
   "metadata": {},
   "source": [
    "# Streamlining the Entire Flow"
   ]
  },
  {
   "cell_type": "code",
   "execution_count": 51,
   "metadata": {},
   "outputs": [],
   "source": [
    "def getLLMResponse(question, results_to_use=1, enableRAG=True):\n",
    "  ctx_lookup = \"\"\n",
    "  if enableRAG:\n",
    "    ctx_lookup = extract_keywords_tfidf(question)\n",
    "  ext_prompt = generate_extended_prompt(question, ctx_lookup, results_to_use)\n",
    "  lm_response = pipe(ext_prompt)\n",
    "  return lm_response[0][\"generated_text\"]"
   ]
  },
  {
   "cell_type": "code",
   "execution_count": 52,
   "metadata": {},
   "outputs": [
    {
     "name": "stdout",
     "output_type": "stream",
     "text": [
      "----\n",
      "\n",
      "  Relevant context:  #['Description: Fetches a list of all tasks within a specified project.', 'Parameters:', ['project_id (required): The ID of the project.', 'status (optional): Filter tasks by status (e.g., completed, in-progress).'], 'Response: A JSON object containing the list of tasks.'] #OmniFlow is a versatile, cross-platform application designed to streamline workflows and enhance productivity in both individual and team environments. The software integrates with various tools and platforms, offering a unified interface for managing tasks, communications, and data analytics. #['Operating System: Windows 10 or later, macOS 10.14 or later, Linux (various distributions), iOS 13 or later, Android 8.0 or later.', 'Processor: Dual-core CPU, 2.0 GHz or faster.', 'Memory: 4 GB RAM (8 GB recommended).', 'Storage: 500 MB available space.', 'Internet Connection: Required for cloud-based features and updates.']\n",
      "  Considering the above context, answer the following question.\n",
      "  Question: How much RAM is needed for OmniFlow?\n",
      "  \n",
      "  Answer: OmniFlow requires at least 4 GB RAM to run smoothly.\n"
     ]
    }
   ],
   "source": [
    "ques = \"How much RAM is needed for OmniFlow?\"\n",
    "res = getLLMResponse(ques)\n",
    "print(\"----\")\n",
    "print(res)"
   ]
  },
  {
   "cell_type": "markdown",
   "metadata": {},
   "source": [
    "# Evaluation"
   ]
  },
  {
   "cell_type": "code",
   "execution_count": 53,
   "metadata": {},
   "outputs": [],
   "source": [
    "questions = [\n",
    "  \"How much RAM is needed for OmniFlow?\",\n",
    "  \"What is OmniFlow used for?\",\n",
    "  \"What is the email id for OmniFlow support?\",\n",
    "  \"How to make a request to /tasks?\",\n",
    "  \"What are some best practices for OmniFlow?\",\n",
    "]"
   ]
  },
  {
   "cell_type": "markdown",
   "metadata": {},
   "source": [
    "## Running with RAG"
   ]
  },
  {
   "cell_type": "code",
   "execution_count": 54,
   "metadata": {},
   "outputs": [],
   "source": [
    "responses_rag = []\n",
    "for ques in questions:\n",
    "  res = getLLMResponse(ques, 3)\n",
    "  responses_rag.append(res)"
   ]
  },
  {
   "cell_type": "code",
   "execution_count": 55,
   "metadata": {},
   "outputs": [],
   "source": [
    "responses_no_rag = []\n",
    "for ques in questions:\n",
    "  res = getLLMResponse(ques, 3, enableRAG=False)\n",
    "  responses_no_rag.append(res)"
   ]
  },
  {
   "cell_type": "code",
   "execution_count": 56,
   "metadata": {},
   "outputs": [
    {
     "name": "stdout",
     "output_type": "stream",
     "text": [
      "----RAG----\n",
      "\n",
      "  Relevant context:  #['Description: Fetches a list of all tasks within a specified project.', 'Parameters:', ['project_id (required): The ID of the project.', 'status (optional): Filter tasks by status (e.g., completed, in-progress).'], 'Response: A JSON object containing the list of tasks.'] #['400 Bad Request: The request was invalid or missing required parameters.', '401 Unauthorized: Authentication failed or API key is invalid.', '500 Internal Server Error: An error occurred on the server side.'] #['Description: Creates a new task within a specified project.', 'Parameters:', ['project_id (required): The ID of the project.', 'task_name (required): The name of the task.', 'assigned_to (optional): The user ID of the assignee.'], 'Response: A JSON object containing the details of the created task.'] #OmniFlow is a versatile, cross-platform application designed to streamline workflows and enhance productivity in both individual and team environments. The software integrates with various tools and platforms, offering a unified interface for managing tasks, communications, and data analytics. #OmniFlow provides a RESTful API that allows developers to interact programmatically with the platform. This API enables the integration of OmniFlow with other software systems. #'Documentation: Visit the [OmniFlow Help Center for detailed guides.', 'Contact Support: Reach out to our support team via email at support-potato@omniflow.com.'] #['Operating System: Windows 10 or later, macOS 10.14 or later, Linux (various distributions), iOS 13 or later, Android 8.0 or later.', 'Processor: Dual-core CPU, 2.0 GHz or faster.', 'Memory: 4 GB RAM (8 GB recommended).', 'Storage: 500 MB available space.', 'Internet Connection: Required for cloud-based features and updates.'] #['Task Management: Organize, prioritize, and track tasks with customizable workflows.', 'Collaboration Tools: Real-time messaging, file sharing, and integrated video conferencing.', 'Data Analytics: Built-in tools for generating reports and visualizing data trends.', 'Third-Party Integrations: Seamless integration with popular tools like Slack, Google Workspace, and Microsoft Teams.', 'Cross-Platform Compatibility: Available on Windows, macOS, Linux, iOS, and Android.'] #['v1.0.0: Initial release with core features including task management, collaboration tools, and data analytics.', 'v1.1.0: Added third-party integrations and improved performance.', 'v1.2.0: Introduced API support and advanced reporting features.']\n",
      "  Considering the above context, answer the following question.\n",
      "  Question: How much RAM is needed for OmniFlow?\n",
      "  \n",
      "  Answer: OmniFlow requires 4 GB RAM (8 GB recommended) for optimal performance.\n",
      "----NO-RAG----\n",
      "\n",
      "  Relevant context: \n",
      "  Considering the above context, answer the following question.\n",
      "  Question: How much RAM is needed for OmniFlow?\n",
      "  \n",
      "  Answer: OmniFlow requires at least 2GB of RAM to function optimally.\n",
      "==============\n",
      "----RAG----\n",
      "\n",
      "  Relevant context:  #OmniFlow is a versatile, cross-platform application designed to streamline workflows and enhance productivity in both individual and team environments. The software integrates with various tools and platforms, offering a unified interface for managing tasks, communications, and data analytics. #OmniFlow provides a RESTful API that allows developers to interact programmatically with the platform. This API enables the integration of OmniFlow with other software systems. #'Documentation: Visit the [OmniFlow Help Center for detailed guides.', 'Contact Support: Reach out to our support team via email at support-potato@omniflow.com.'] #['400 Bad Request: The request was invalid or missing required parameters.', '401 Unauthorized: Authentication failed or API key is invalid.', '500 Internal Server Error: An error occurred on the server side.'] #['How do I reset my password? Go to the login page and click \"Forgot Password\" to receive a reset link via email.', 'Can I use OmniFlow offline? Some features are available offline, but full functionality requires an internet connection.'] #['Description: Creates a new task within a specified project.', 'Parameters:', ['project_id (required): The ID of the project.', 'task_name (required): The name of the task.', 'assigned_to (optional): The user ID of the assignee.'], 'Response: A JSON object containing the details of the created task.']\n",
      "  Considering the above context, answer the following question.\n",
      "  Question: What is OmniFlow used for?\n",
      "  \n",
      "  Answer: OmniFlow is used for streamlining workflows and enhancing productivity in both individual and team environments.\n",
      "----NO-RAG----\n",
      "\n",
      "  Relevant context: \n",
      "  Considering the above context, answer the following question.\n",
      "  Question: What is OmniFlow used for?\n",
      "  \n",
      "  Answer: OmniFlow is a software tool used for managing and optimizing the performance of a network. It is designed to help network administrators monitor and analyze network traffic, identify bottlenecks, and optimize network performance. OmniFlow can be used for a variety of network management tasks, including load balancing, traffic shaping, bandwidth management, and network monitoring.\n",
      "==============\n",
      "----RAG----\n",
      "\n",
      "  Relevant context:  #['How do I reset my password? Go to the login page and click \"Forgot Password\" to receive a reset link via email.', 'Can I use OmniFlow offline? Some features are available offline, but full functionality requires an internet connection.'] #OmniFlow provides a RESTful API that allows developers to interact programmatically with the platform. This API enables the integration of OmniFlow with other software systems. #'Documentation: Visit the [OmniFlow Help Center for detailed guides.', 'Contact Support: Reach out to our support team via email at support-potato@omniflow.com.'] #['Description: Creates a new task within a specified project.', 'Parameters:', ['project_id (required): The ID of the project.', 'task_name (required): The name of the task.', 'assigned_to (optional): The user ID of the assignee.'], 'Response: A JSON object containing the details of the created task.'] #['400 Bad Request: The request was invalid or missing required parameters.', '401 Unauthorized: Authentication failed or API key is invalid.', '500 Internal Server Error: An error occurred on the server side.'] #['Description: Fetches a list of all tasks within a specified project.', 'Parameters:', ['project_id (required): The ID of the project.', 'status (optional): Filter tasks by status (e.g., completed, in-progress).'], 'Response: A JSON object containing the list of tasks.'] #OmniFlow is a versatile, cross-platform application designed to streamline workflows and enhance productivity in both individual and team environments. The software integrates with various tools and platforms, offering a unified interface for managing tasks, communications, and data analytics. #OmniFlow provides a RESTful API that allows developers to interact programmatically with the platform. This API enables the integration of OmniFlow with other software systems. #'Documentation: Visit the [OmniFlow Help Center for detailed guides.', 'Contact Support: Reach out to our support team via email at support-potato@omniflow.com.'] #['v1.0.0: Initial release with core features including task management, collaboration tools, and data analytics.', 'v1.1.0: Added third-party integrations and improved performance.', 'v1.2.0: Introduced API support and advanced reporting features.'] #['Regular Backups: Ensure your data is regularly backed up to avoid loss.', 'User Permissions: Manage user roles and permissions carefully to maintain security.', 'Stay Updated: Regularly check for software updates to access new features and improvements.'] #['Task Management: Create, assign, and track tasks within your project.', 'Collaboration: Use the chat feature for instant communication with team members.', 'File Sharing: Upload and share documents, images, and other files directly within the project.']\n",
      "  Considering the above context, answer the following question.\n",
      "  Question: What is the email id for OmniFlow support?\n",
      "  \n",
      "  Answer: The email id for OmniFlow support is support-potato@omniflow.com.\n",
      "----NO-RAG----\n",
      "\n",
      "  Relevant context: \n",
      "  Considering the above context, answer the following question.\n",
      "  Question: What is the email id for OmniFlow support?\n",
      "  \n",
      "  Answer: OmniFlow support email id is support@omniflow.com.\n",
      "==============\n",
      "----RAG----\n",
      "\n",
      "  Relevant context:  #['Launching OmniFlow: Double-click the OmniFlow icon on your desktop or find it in your applications folder.', 'Creating a Project: Start a new project by clicking the \"New Project\" button and entering the project details.', 'Navigating the Interface: Familiarize yourself with the main dashboard, side menu, and toolbar.'] #['Task Management: Create, assign, and track tasks within your project.', 'Collaboration: Use the chat feature for instant communication with team members.', 'File Sharing: Upload and share documents, images, and other files directly within the project.'] #['Description: Creates a new task within a specified project.', 'Parameters:', ['project_id (required): The ID of the project.', 'task_name (required): The name of the task.', 'assigned_to (optional): The user ID of the assignee.'], 'Response: A JSON object containing the details of the created task.'] #['400 Bad Request: The request was invalid or missing required parameters.', '401 Unauthorized: Authentication failed or API key is invalid.', '500 Internal Server Error: An error occurred on the server side.'] #['Description: Creates a new task within a specified project.', 'Parameters:', ['project_id (required): The ID of the project.', 'task_name (required): The name of the task.', 'assigned_to (optional): The user ID of the assignee.'], 'Response: A JSON object containing the details of the created task.'] #['Description: Fetches a list of all tasks within a specified project.', 'Parameters:', ['project_id (required): The ID of the project.', 'status (optional): Filter tasks by status (e.g., completed, in-progress).'], 'Response: A JSON object containing the list of tasks.'] #['Task Management: Create, assign, and track tasks within your project.', 'Collaboration: Use the chat feature for instant communication with team members.', 'File Sharing: Upload and share documents, images, and other files directly within the project.'] #['Description: Fetches a list of all tasks within a specified project.', 'Parameters:', ['project_id (required): The ID of the project.', 'status (optional): Filter tasks by status (e.g., completed, in-progress).'], 'Response: A JSON object containing the list of tasks.'] #['Task Management: Organize, prioritize, and track tasks with customizable workflows.', 'Collaboration Tools: Real-time messaging, file sharing, and integrated video conferencing.', 'Data Analytics: Built-in tools for generating reports and visualizing data trends.', 'Third-Party Integrations: Seamless integration with popular tools like Slack, Google Workspace, and Microsoft Teams.', 'Cross-Platform Compatibility: Available on Windows, macOS, Linux, iOS, and Android.']\n",
      "  Considering the above context, answer the following question.\n",
      "  Question: How to make a request to /tasks?\n",
      "  \n",
      "  Answer: To make a request to /tasks, you can use the `requests` library in Python. Here's an example:\n",
      "\n",
      "  ```python\n",
      "  import requests\n",
      "\n",
      "  # Define the URL and parameters for the request\n",
      "  url = 'https://api.omniflow.com/tasks'\n",
      "  params = {\n",
      "    'project_id': 'your_project_id',\n",
      "    'task_name': 'your_task_name',\n",
      "    'assigned_to': 'your_assigned_user_id'\n",
      "  }\n",
      "\n",
      "  # Make the request and parse the response\n",
      "  response = requests.post(url, params=params)\n",
      "  response_json = response.json()\n",
      "  print(response_json)\n",
      "  ```\n",
      "  \n",
      "  This code will make a POST request to the `/tasks` endpoint with the `project_id`, `task_name`, and `assigned_to` parameters. The response will be parsed into a JSON object and printed to the console.\n",
      "----NO-RAG----\n",
      "\n",
      "  Relevant context: \n",
      "  Considering the above context, answer the following question.\n",
      "  Question: How to make a request to /tasks?\n",
      "  \n",
      "  Answer:\n",
      "  \n",
      "  To make a request to /tasks, you can use the `GET` method and the URL `/tasks` in the `url` parameter. Here's an example:\n",
      "  \n",
      "  ```python\n",
      "  from flask import request\n",
      "  from flask_restful import Resource\n",
      "  \n",
      "  class Tasks(Resource):\n",
      "      def get(self):\n",
      "          tasks = []\n",
      "          for task in get_tasks():\n",
      "              tasks.append(task)\n",
      "          return tasks\n",
      "  \n",
      "  def get_tasks():\n",
      "      return [\n",
      "          {\"id\": 1, \"title\": \"Task 1\"},\n",
      "          {\"id\": 2, \"title\": \"Task 2\"},\n",
      "          {\"id\": 3, \"title\": \"Task 3\"},\n",
      "      ]\n",
      "  \n",
      "  app = Flask(__name__)\n",
      "  app.config['DEBUG'] = True\n",
      "  app.register_blueprint(Tasks)\n",
      "  \n",
      "  class Task(Resource):\n",
      "      def get(self, id):\n",
      "          task = get_task(id)\n",
      "          if task is None:\n",
      "              return {'error': 'Task not found'}, 404\n",
      "         \n",
      "==============\n",
      "----RAG----\n",
      "\n",
      "  Relevant context:  #['Regular Backups: Ensure your data is regularly backed up to avoid loss.', 'User Permissions: Manage user roles and permissions carefully to maintain security.', 'Stay Updated: Regularly check for software updates to access new features and improvements.'] #['400 Bad Request: The request was invalid or missing required parameters.', '401 Unauthorized: Authentication failed or API key is invalid.', '500 Internal Server Error: An error occurred on the server side.'] #['Task Management: Create, assign, and track tasks within your project.', 'Collaboration: Use the chat feature for instant communication with team members.', 'File Sharing: Upload and share documents, images, and other files directly within the project.'] #OmniFlow is a versatile, cross-platform application designed to streamline workflows and enhance productivity in both individual and team environments. The software integrates with various tools and platforms, offering a unified interface for managing tasks, communications, and data analytics. #OmniFlow provides a RESTful API that allows developers to interact programmatically with the platform. This API enables the integration of OmniFlow with other software systems. #'Documentation: Visit the [OmniFlow Help Center for detailed guides.', 'Contact Support: Reach out to our support team via email at support-potato@omniflow.com.'] #['Task Management: Create, assign, and track tasks within your project.', 'Collaboration: Use the chat feature for instant communication with team members.', 'File Sharing: Upload and share documents, images, and other files directly within the project.'] #['Regular Backups: Ensure your data is regularly backed up to avoid loss.', 'User Permissions: Manage user roles and permissions carefully to maintain security.', 'Stay Updated: Regularly check for software updates to access new features and improvements.'] #['Task Management: Organize, prioritize, and track tasks with customizable workflows.', 'Collaboration Tools: Real-time messaging, file sharing, and integrated video conferencing.', 'Data Analytics: Built-in tools for generating reports and visualizing data trends.', 'Third-Party Integrations: Seamless integration with popular tools like Slack, Google Workspace, and Microsoft Teams.', 'Cross-Platform Compatibility: Available on Windows, macOS, Linux, iOS, and Android.']\n",
      "  Considering the above context, answer the following question.\n",
      "  Question: What are some best practices for OmniFlow?\n",
      "  \n",
      "  Answer: 1. Regular Backups: Ensure your data is regularly backed up to avoid loss.\n",
      "  2. User Permissions: Manage user roles and permissions carefully to maintain security.\n",
      "  3. Stay Updated: Regularly check for software updates to access new features and improvements.\n",
      "  4. Collaboration: Use the chat feature for instant communication with team members.\n",
      "  5. File Sharing: Upload and share documents, images, and other files directly within the project.\n",
      "  6. Task Management: Organize, prioritize, and track tasks with customizable workflows.\n",
      "  7. Collaboration Tools: Real-time messaging, file sharing, and integrated video conferencing.\n",
      "  8. Data Analytics: Built-in tools for generating reports and visualizing data trends.\n",
      "  9. Third-Party Integrations: Seamless integration with popular tools like Slack, Google Workspace, and Microsoft Teams.\n",
      "  10. Cross-Platform Compatibility: Available on Windows, macOS, Linux, iOS, and Android.\n",
      "----NO-RAG----\n",
      "\n",
      "  Relevant context: \n",
      "  Considering the above context, answer the following question.\n",
      "  Question: What are some best practices for OmniFlow?\n",
      "  \n",
      "  Answer: \n",
      "  OmniFlow is a powerful and flexible tool for managing and optimizing your website's performance. Here are some best practices for using OmniFlow:\n",
      "  \n",
      "  1. Set up your website's performance goals: Before you start using OmniFlow, set up your website's performance goals. This will help you track your progress and identify areas for improvement.\n",
      "  \n",
      "  2. Use the dashboard: The OmniFlow dashboard is a great place to start. It provides a quick overview of your website's performance, including metrics like page load time, bounce rate, and time on page.\n",
      "  \n",
      "  3. Monitor your website's performance: Monitor your website's performance regularly. Use the dashboard to track your website's performance over time. This will help you identify any trends or patterns that need to be addressed.\n",
      "  \n",
      "  4. Use the optimization tools: Use the optimization tools in OmniFlow to improve your website's performance. This includes optimizing your images, reducing your server response time, and improving your website's loading speed.\n",
      "  \n",
      "  5. Use the A/B testing tool: Use the\n",
      "==============\n"
     ]
    }
   ],
   "source": [
    "for i in range(len(questions)):\n",
    "  print(\"----RAG----\")\n",
    "  print(responses_rag[i])\n",
    "  print(\"----NO-RAG----\")\n",
    "  print(responses_no_rag[i])\n",
    "  print(\"==============\")"
   ]
  },
  {
   "cell_type": "code",
   "execution_count": null,
   "metadata": {},
   "outputs": [],
   "source": []
  }
 ],
 "metadata": {
  "kernelspec": {
   "display_name": "ml",
   "language": "python",
   "name": "python3"
  },
  "language_info": {
   "codemirror_mode": {
    "name": "ipython",
    "version": 3
   },
   "file_extension": ".py",
   "mimetype": "text/x-python",
   "name": "python",
   "nbconvert_exporter": "python",
   "pygments_lexer": "ipython3",
   "version": "3.12.3"
  }
 },
 "nbformat": 4,
 "nbformat_minor": 2
}
