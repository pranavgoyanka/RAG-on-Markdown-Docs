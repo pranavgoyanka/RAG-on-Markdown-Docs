{
 "cells": [
  {
   "cell_type": "code",
   "execution_count": 1,
   "metadata": {},
   "outputs": [],
   "source": [
    "import numpy as np\n",
    "import pandas as pd"
   ]
  },
  {
   "cell_type": "markdown",
   "metadata": {},
   "source": [
    "# Loading the Dataset\n"
   ]
  },
  {
   "cell_type": "code",
   "execution_count": 28,
   "metadata": {},
   "outputs": [
    {
     "name": "stdout",
     "output_type": "stream",
     "text": [
      "[{'key': 'Introduction',\n",
      "  'value': 'Welcome to the OmniFlow Documentation. OmniFlow is an all-in-one '\n",
      "           'workflow automation platform designed to help businesses '\n",
      "           'streamline their operations by automating repetitive tasks, '\n",
      "           'integrating with existing tools, and providing real-time '\n",
      "           'analytics. This guide will walk you through the features, '\n",
      "           'installation, and usage of OmniFlow.'},\n",
      " {'key': 'Table of Contents',\n",
      "  'value': \"['[OmniFlow Documentation](#omniflow-documentation)', \"\n",
      "           \"['[Introduction](#introduction)', '[Table of \"\n",
      "           \"Contents](#table-of-contents)', '[1. Overview](#1-overview)', '[2. \"\n",
      "           \"Installation](#2-installation)', ['[System \"\n",
      "           \"Requirements](#system-requirements)', '[Installation \"\n",
      "           \"Steps](#installation-steps)'], '[3. Getting \"\n",
      "           \"Started](#3-getting-started)', ['[Creating Your First \"\n",
      "           \"Workflow](#creating-your-first-workflow)', '[Adding Team \"\n",
      "           \"Members](#adding-team-members)'], '[4. Features](#4-features)', \"\n",
      "           \"['[Workflow Automation](#workflow-automation)', '[Integration \"\n",
      "           \"Hub](#integration-hub)', '[Analytics \"\n",
      "           \"Dashboard](#analytics-dashboard)'], '[5. Advanced \"\n",
      "           \"Usage](#5-advanced-usage)', ['[Custom \"\n",
      "           \"Scripting](#custom-scripting)', '[Secure Data \"\n",
      "           \"Handling](#secure-data-handling)'], '[6. \"\n",
      "           \"Troubleshooting](#6-troubleshooting)', ['[Common \"\n",
      "           \"Issues](#common-issues)', '[Contacting \"\n",
      "           \"Support](#contacting-support)'], '[7. FAQs](#7-faqs)', '[8. \"\n",
      "           \"Support](#8-support)']]\"},\n",
      " {'key': '1. Overview',\n",
      "  'value': 'OmniFlow is built to adapt to the unique needs of any '\n",
      "           'organization, allowing you to create customized workflows that '\n",
      "           'automate everything from simple tasks to complex processes. '\n",
      "           \"Whether you're managing a small business or overseeing a large \"\n",
      "           'enterprise, OmniFlow provides the tools necessary to optimize your '\n",
      "           'operations.'},\n",
      " {'key': 'System Requirements',\n",
      "  'value': \"['**Operating System:** Windows Server 2016 or later, macOS 11.0 \"\n",
      "           \"or later, Linux (CentOS 8 or later)', '**RAM:** 8 GB minimum', \"\n",
      "           \"'**Disk Space:** 1 GB minimum', '**Internet Connection:** Required \"\n",
      "           \"for cloud-based features']\"},\n",
      " {'key': 'Installation Steps',\n",
      "  'value': \"['**Download the Installer:** Access the latest version of \"\n",
      "           'OmniFlow from our official website '\n",
      "           \"[www.omniflow.com](https://www.omniflow.com).', '**Run the \"\n",
      "           'Installer:** Open the downloaded file and follow the on-screen '\n",
      "           \"instructions to install OmniFlow.', '**Initial Setup:** After \"\n",
      "           'installation, launch OmniFlow and follow the setup wizard to '\n",
      "           \"configure your workspace.', '**Create an Admin Account:** Set up \"\n",
      "           \"your admin account to begin using OmniFlow.']\"},\n",
      " {'key': 'Creating Your First Workflow',\n",
      "  'value': '[\\'Navigate to the \"Workflows\" section from the main dashboard.\\', '\n",
      "           '\\'Click on \"Create New Workflow.\"\\', \"Define the workflow\\'s start '\n",
      "           'trigger, such as receiving an email or updating a database '\n",
      "           'record.\", \\'Add tasks and conditions using the drag-and-drop '\n",
      "           \"builder.', 'Save and activate your workflow.']\"},\n",
      " {'key': 'Adding Team Members',\n",
      "  'value': '[\\'Go to the \"Team\" section from the settings menu.\\', \\'Click '\n",
      "           '\"Invite Team Member.\"\\', \\'Enter the email address of the team '\n",
      "           \"member and assign their role (e.g., Admin, Manager, User).', 'Send \"\n",
      "           \"the invitation to grant access.']\"},\n",
      " {'key': 'Workflow Automation',\n",
      "  'value': \"['**Conditional Logic:** Set up complex workflows with if/then \"\n",
      "           \"branching logic.', '**Multi-step Processes:** Automate sequences \"\n",
      "           \"of tasks that depend on each other.', '**Error Handling:** \"\n",
      "           \"Configure fallback steps in case of errors during execution.']\"},\n",
      " {'key': 'Integration Hub',\n",
      "  'value': \"['**API Integration:** Connect OmniFlow to your existing tools \"\n",
      "           \"using our REST API.', '**Pre-built Connectors:** Instantly \"\n",
      "           'integrate with popular applications like Salesforce, Slack, and '\n",
      "           \"Jira.', '**Custom Webhooks:** Create custom webhooks to trigger \"\n",
      "           \"workflows from external events.']\"},\n",
      " {'key': 'Analytics Dashboard',\n",
      "  'value': \"['**Real-time Monitoring:** View the status of active workflows in \"\n",
      "           \"real-time.', '**Performance Metrics:** Analyze workflow efficiency \"\n",
      "           \"with detailed performance reports.', '**Export Data:** Export \"\n",
      "           \"analytics data in CSV or JSON format for further analysis.']\"},\n",
      " {'key': 'Custom Scripting',\n",
      "  'value': \"['**Script Editor:** Use the built-in script editor to add custom \"\n",
      "           \"scripts to your workflows.', '**Supported Languages:** Write \"\n",
      "           \"scripts in Python, JavaScript, or Ruby.', '**Script Library:** \"\n",
      "           \"Save and reuse scripts across multiple workflows.']\"},\n",
      " {'key': 'Secure Data Handling',\n",
      "  'value': \"['**Data Encryption:** All data processed by OmniFlow is encrypted \"\n",
      "           \"using AES-256.', '**Role-Based Access:** Control who can access \"\n",
      "           \"specific workflows and data within OmniFlow.', '**Audit Logs:** \"\n",
      "           'Keep track of changes and access to sensitive data with '\n",
      "           \"comprehensive audit logs.']\"},\n",
      " {'key': 'Common Issues',\n",
      "  'value': \"['**Workflow Not Triggering:** Ensure that the trigger conditions \"\n",
      "           \"are correctly defined and that the trigger source is active.', \"\n",
      "           \"'**Integration Errors:** Verify API keys and connection settings \"\n",
      "           \"for integrated tools.', '**Performance Lag:** Check system \"\n",
      "           'requirements and consider upgrading hardware if performance issues '\n",
      "           \"persist.']\"},\n",
      " {'key': 'Contacting Support',\n",
      "  'value': 'If you encounter issues that are not covered in this '\n",
      "           'documentation, reach out to OmniFlow support at '\n",
      "           '[support@omniflow.com](mailto:support@omniflow.com) or call '\n",
      "           '1-800-987-6543.'},\n",
      " {'key': '7. FAQs',\n",
      "  'value': \"['**Q: Can OmniFlow handle parallel tasks in a workflow?**\\\\nA: \"\n",
      "           'Yes, OmniFlow supports parallel task execution within a single '\n",
      "           \"workflow.', '**Q: How do I upgrade to the enterprise \"\n",
      "           'version?**\\\\nA: Contact our sales team at '\n",
      "           '[sales@omniflow.com](mailto:sales@omniflow.com) for details on '\n",
      "           \"upgrading to the enterprise version.']\"},\n",
      " {'key': '8. Support',\n",
      "  'value': 'For additional help, visit our [Help '\n",
      "           'Center](https://www.omniflow.com/help) or join our community forum '\n",
      "           'at [forum.omniflow.com](https://forum.omniflow.com).'}]\n"
     ]
    }
   ],
   "source": [
    "import markdown_to_json\n",
    "import pprint\n",
    "\n",
    "with open('./data/OmniFlow.md', 'r') as file:\n",
    "    data = file.read()\n",
    "    \n",
    "# print(data)\n",
    "\n",
    "md_dict = markdown_to_json.dictify(data)\n",
    "\n",
    "# pprint.pprint(md_dict)\n",
    "\n",
    "# DFS into the dictionary \n",
    "# start from the first set of keys?\n",
    "def dfs_dict(d, path):\n",
    "    if path is None:\n",
    "        path = []\n",
    "        \n",
    "    for key, value in d.items():\n",
    "        # path.append({\"key\": key, \"value\": str(value)})\n",
    "        \n",
    "        if isinstance(value, dict):\n",
    "            # Recursively apply DFS if the value is another dictionary\n",
    "            dfs_dict(value, path)\n",
    "        else:\n",
    "            # Reached the end\n",
    "            # cleanup the value and key\n",
    "            \n",
    "            path.append({\"key\": key, \"value\": str(value)})\n",
    "\n",
    "all_md_keys_dict = []        \n",
    "dfs_dict(md_dict, all_md_keys_dict)\n",
    "\n",
    "pprint.pprint(all_md_keys_dict)"
   ]
  },
  {
   "cell_type": "code",
   "execution_count": 29,
   "metadata": {},
   "outputs": [
    {
     "data": {
      "text/html": [
       "<div>\n",
       "<style scoped>\n",
       "    .dataframe tbody tr th:only-of-type {\n",
       "        vertical-align: middle;\n",
       "    }\n",
       "\n",
       "    .dataframe tbody tr th {\n",
       "        vertical-align: top;\n",
       "    }\n",
       "\n",
       "    .dataframe thead th {\n",
       "        text-align: right;\n",
       "    }\n",
       "</style>\n",
       "<table border=\"1\" class=\"dataframe\">\n",
       "  <thead>\n",
       "    <tr style=\"text-align: right;\">\n",
       "      <th></th>\n",
       "      <th>key</th>\n",
       "      <th>value</th>\n",
       "      <th>id</th>\n",
       "    </tr>\n",
       "  </thead>\n",
       "  <tbody>\n",
       "    <tr>\n",
       "      <th>0</th>\n",
       "      <td>Introduction</td>\n",
       "      <td>Welcome to the OmniFlow Documentation. OmniFlo...</td>\n",
       "      <td>0</td>\n",
       "    </tr>\n",
       "    <tr>\n",
       "      <th>1</th>\n",
       "      <td>Table of Contents</td>\n",
       "      <td>['[OmniFlow Documentation](#omniflow-documenta...</td>\n",
       "      <td>1</td>\n",
       "    </tr>\n",
       "    <tr>\n",
       "      <th>2</th>\n",
       "      <td>1. Overview</td>\n",
       "      <td>OmniFlow is built to adapt to the unique needs...</td>\n",
       "      <td>2</td>\n",
       "    </tr>\n",
       "    <tr>\n",
       "      <th>3</th>\n",
       "      <td>System Requirements</td>\n",
       "      <td>['**Operating System:** Windows Server 2016 or...</td>\n",
       "      <td>3</td>\n",
       "    </tr>\n",
       "    <tr>\n",
       "      <th>4</th>\n",
       "      <td>Installation Steps</td>\n",
       "      <td>['**Download the Installer:** Access the lates...</td>\n",
       "      <td>4</td>\n",
       "    </tr>\n",
       "  </tbody>\n",
       "</table>\n",
       "</div>"
      ],
      "text/plain": [
       "                   key                                              value  id\n",
       "0         Introduction  Welcome to the OmniFlow Documentation. OmniFlo...   0\n",
       "1    Table of Contents  ['[OmniFlow Documentation](#omniflow-documenta...   1\n",
       "2          1. Overview  OmniFlow is built to adapt to the unique needs...   2\n",
       "3  System Requirements  ['**Operating System:** Windows Server 2016 or...   3\n",
       "4   Installation Steps  ['**Download the Installer:** Access the lates...   4"
      ]
     },
     "execution_count": 29,
     "metadata": {},
     "output_type": "execute_result"
    }
   ],
   "source": [
    "md_df = pd.DataFrame.from_dict(all_md_keys_dict)\n",
    "md_df['id'] = md_df.index\n",
    "md_df.head(5)"
   ]
  },
  {
   "cell_type": "markdown",
   "metadata": {},
   "source": [
    "# ChromaDB"
   ]
  },
  {
   "cell_type": "code",
   "execution_count": 30,
   "metadata": {},
   "outputs": [],
   "source": [
    "import chromadb\n",
    "from chromadb.config import Settings"
   ]
  },
  {
   "cell_type": "code",
   "execution_count": 31,
   "metadata": {},
   "outputs": [],
   "source": [
    "chroma_client = chromadb.PersistentClient(path=\"./db\")"
   ]
  },
  {
   "cell_type": "code",
   "execution_count": 32,
   "metadata": {},
   "outputs": [],
   "source": [
    "collection_name = \"md_collection\"\n",
    "\n",
    "# delete the collection if it already exists\n",
    "if len(chroma_client.list_collections()) > 0 and collection_name in [chroma_client.list_collections()[0].name]:\n",
    "        chroma_client.delete_collection(name=collection_name)\n",
    "collection = chroma_client.create_collection(name=collection_name)"
   ]
  },
  {
   "cell_type": "code",
   "execution_count": 33,
   "metadata": {},
   "outputs": [],
   "source": [
    "# some constants\n",
    "DOCUMENT=\"value\"\n",
    "TOPIC=\"key\""
   ]
  },
  {
   "cell_type": "code",
   "execution_count": 34,
   "metadata": {},
   "outputs": [],
   "source": [
    "# populate the collection\n",
    "collection.add(\n",
    "    documents=md_df[DOCUMENT].tolist(),\n",
    "    metadatas=[{TOPIC: topic} for topic in md_df[TOPIC].tolist()],\n",
    "    ids=[f\"id{x}\" for x in range(len(md_df))],\n",
    ")"
   ]
  },
  {
   "cell_type": "markdown",
   "metadata": {},
   "source": [
    "# Querying the database"
   ]
  },
  {
   "cell_type": "code",
   "execution_count": 37,
   "metadata": {},
   "outputs": [
    {
     "name": "stdout",
     "output_type": "stream",
     "text": [
      "{'data': None,\n",
      " 'distances': [[1.4127005832468031, 1.4198544050607402, 1.421332467839799]],\n",
      " 'documents': [['[\\'Go to the \"Team\" section from the settings menu.\\', '\n",
      "                '\\'Click \"Invite Team Member.\"\\', \\'Enter the email address of '\n",
      "                'the team member and assign their role (e.g., Admin, Manager, '\n",
      "                \"User).', 'Send the invitation to grant access.']\",\n",
      "                \"['**Download the Installer:** Access the latest version of \"\n",
      "                'OmniFlow from our official website '\n",
      "                \"[www.omniflow.com](https://www.omniflow.com).', '**Run the \"\n",
      "                'Installer:** Open the downloaded file and follow the '\n",
      "                \"on-screen instructions to install OmniFlow.', '**Initial \"\n",
      "                'Setup:** After installation, launch OmniFlow and follow the '\n",
      "                \"setup wizard to configure your workspace.', '**Create an \"\n",
      "                'Admin Account:** Set up your admin account to begin using '\n",
      "                \"OmniFlow.']\",\n",
      "                \"['**Operating System:** Windows Server 2016 or later, macOS \"\n",
      "                \"11.0 or later, Linux (CentOS 8 or later)', '**RAM:** 8 GB \"\n",
      "                \"minimum', '**Disk Space:** 1 GB minimum', '**Internet \"\n",
      "                \"Connection:** Required for cloud-based features']\"]],\n",
      " 'embeddings': None,\n",
      " 'ids': [['id6', 'id4', 'id3']],\n",
      " 'metadatas': [[{'key': 'Adding Team Members'},\n",
      "                {'key': 'Installation Steps'},\n",
      "                {'key': 'System Requirements'}]],\n",
      " 'uris': None}\n"
     ]
    }
   ],
   "source": [
    "import pprint\n",
    "results = collection.query(query_texts=[\"how to install\"], n_results=3 )\n",
    "\n",
    "pprint.pprint(results)"
   ]
  },
  {
   "cell_type": "markdown",
   "metadata": {},
   "source": [
    "# Loading the Model and Creating the Prompt"
   ]
  },
  {
   "cell_type": "code",
   "execution_count": 39,
   "metadata": {},
   "outputs": [],
   "source": [
    "from transformers import AutoTokenizer, AutoModelForCausalLM, pipeline\n",
    "\n",
    "model_id = \"TinyLlama/TinyLlama-1.1B-Chat-v1.0\"\n",
    "#model_id = \"databricks/dolly-v2-3b\"\n",
    "tokenizer = AutoTokenizer.from_pretrained(model_id)\n",
    "lm_model = AutoModelForCausalLM.from_pretrained(model_id, trust_remote_code=True)"
   ]
  },
  {
   "cell_type": "code",
   "execution_count": 40,
   "metadata": {},
   "outputs": [],
   "source": [
    "pipe = pipeline(\n",
    "    \"text-generation\",\n",
    "    model=lm_model,\n",
    "    tokenizer=tokenizer,\n",
    "    max_new_tokens=256,\n",
    "    device_map=\"auto\",\n",
    ")"
   ]
  },
  {
   "cell_type": "markdown",
   "metadata": {},
   "source": [
    "# Creating the Extended Prompt"
   ]
  },
  {
   "cell_type": "code",
   "execution_count": 98,
   "metadata": {},
   "outputs": [],
   "source": [
    "def generate_extended_prompt(question, context_to_lookup=None, results_to_use=1):\n",
    "  context = \"\"\n",
    "  # lookup the vector database for semantically similar data\n",
    "  if (context_to_lookup):\n",
    "    ctxs = collection.query(query_texts=[context_to_lookup], n_results=results_to_use)\n",
    "    # join all the results\n",
    "    context = \" \".join([f\"#{str(i)}\" for i in ctxs[\"documents\"][0]])\n",
    "\n",
    "  # populate the prompt template\n",
    "  prompt_template = f\"\"\"\n",
    "  Relevant context: {context}\n",
    "  Considering the above context, answer the following question.\n",
    "  Question: {question}\n",
    "  \"\"\"\n",
    "  return prompt_template"
   ]
  },
  {
   "cell_type": "code",
   "execution_count": 109,
   "metadata": {},
   "outputs": [
    {
     "name": "stdout",
     "output_type": "stream",
     "text": [
      "\n",
      "  Relevant context: #['**Operating System:** Windows Server 2016 or later, macOS 11.0 or later, Linux (CentOS 8 or later)', '**RAM:** 8 GB minimum', '**Disk Space:** 1 GB minimum', '**Internet Connection:** Required for cloud-based features']\n",
      "  Considering the above context, answer the following question.\n",
      "  Question: How much RAM is needed for Omniflow?\n",
      "  \n"
     ]
    }
   ],
   "source": [
    "question = \"How much RAM is needed for Omniflow?\"\n",
    "ctx_lookup = \"RAM\"\n",
    "ext_prompt = generate_extended_prompt(question, ctx_lookup, 1)\n",
    "print(ext_prompt)"
   ]
  },
  {
   "cell_type": "code",
   "execution_count": 110,
   "metadata": {},
   "outputs": [
    {
     "name": "stdout",
     "output_type": "stream",
     "text": [
      "\n",
      "  Relevant context: #['**Operating System:** Windows Server 2016 or later, macOS 11.0 or later, Linux (CentOS 8 or later)', '**RAM:** 8 GB minimum', '**Disk Space:** 1 GB minimum', '**Internet Connection:** Required for cloud-based features']\n",
      "  Considering the above context, answer the following question.\n",
      "  Question: How much RAM is needed for Omniflow?\n",
      "  \n",
      "  Answer: The minimum RAM requirement for Omniflow is 8 GB.\n"
     ]
    }
   ],
   "source": [
    "lm_response = pipe(ext_prompt)\n",
    "print(lm_response[0][\"generated_text\"])"
   ]
  },
  {
   "cell_type": "code",
   "execution_count": null,
   "metadata": {},
   "outputs": [],
   "source": []
  }
 ],
 "metadata": {
  "kernelspec": {
   "display_name": "ml",
   "language": "python",
   "name": "python3"
  },
  "language_info": {
   "codemirror_mode": {
    "name": "ipython",
    "version": 3
   },
   "file_extension": ".py",
   "mimetype": "text/x-python",
   "name": "python",
   "nbconvert_exporter": "python",
   "pygments_lexer": "ipython3",
   "version": "3.12.3"
  }
 },
 "nbformat": 4,
 "nbformat_minor": 2
}
