{
 "cells": [
  {
   "cell_type": "code",
   "execution_count": 1,
   "metadata": {},
   "outputs": [
    {
     "name": "stdout",
     "output_type": "stream",
     "text": [
      "\n",
      "\u001b[1m[\u001b[0m\u001b[34;49mnotice\u001b[0m\u001b[1;39;49m]\u001b[0m\u001b[39;49m A new release of pip is available: \u001b[0m\u001b[31;49m24.1.2\u001b[0m\u001b[39;49m -> \u001b[0m\u001b[32;49m24.2\u001b[0m\n",
      "\u001b[1m[\u001b[0m\u001b[34;49mnotice\u001b[0m\u001b[1;39;49m]\u001b[0m\u001b[39;49m To update, run: \u001b[0m\u001b[32;49mpip install --upgrade pip\u001b[0m\n"
     ]
    }
   ],
   "source": [
    "!pip install -q transformers==4.41.2"
   ]
  },
  {
   "cell_type": "code",
   "execution_count": 2,
   "metadata": {},
   "outputs": [
    {
     "name": "stdout",
     "output_type": "stream",
     "text": [
      "\n",
      "\u001b[1m[\u001b[0m\u001b[34;49mnotice\u001b[0m\u001b[1;39;49m]\u001b[0m\u001b[39;49m A new release of pip is available: \u001b[0m\u001b[31;49m24.1.2\u001b[0m\u001b[39;49m -> \u001b[0m\u001b[32;49m24.2\u001b[0m\n",
      "\u001b[1m[\u001b[0m\u001b[34;49mnotice\u001b[0m\u001b[1;39;49m]\u001b[0m\u001b[39;49m To update, run: \u001b[0m\u001b[32;49mpip install --upgrade pip\u001b[0m\n",
      "\n",
      "\u001b[1m[\u001b[0m\u001b[34;49mnotice\u001b[0m\u001b[1;39;49m]\u001b[0m\u001b[39;49m A new release of pip is available: \u001b[0m\u001b[31;49m24.1.2\u001b[0m\u001b[39;49m -> \u001b[0m\u001b[32;49m24.2\u001b[0m\n",
      "\u001b[1m[\u001b[0m\u001b[34;49mnotice\u001b[0m\u001b[1;39;49m]\u001b[0m\u001b[39;49m To update, run: \u001b[0m\u001b[32;49mpip install --upgrade pip\u001b[0m\n"
     ]
    }
   ],
   "source": [
    "\n",
    "!pip install -q sentence-transformers==2.2.2\n",
    "#!pip install -q xformers==0.0.23\n",
    "!pip install -q chromadb==0.4.20"
   ]
  },
  {
   "cell_type": "code",
   "execution_count": 3,
   "metadata": {},
   "outputs": [],
   "source": [
    "import numpy as np\n",
    "import pandas as pd"
   ]
  },
  {
   "cell_type": "markdown",
   "metadata": {},
   "source": [
    "# Loading the Dataset\n",
    "\n",
    "Using: kotartemiy/topic-labeled-news-dataset from Kaggle"
   ]
  },
  {
   "cell_type": "code",
   "execution_count": 8,
   "metadata": {},
   "outputs": [],
   "source": [
    "\n",
    "import zipfile\n",
    "\n",
    "# Define the path to your zip file\n",
    "file_path = './data/topic-labeled-news-dataset.zip'"
   ]
  },
  {
   "cell_type": "code",
   "execution_count": 9,
   "metadata": {},
   "outputs": [],
   "source": [
    "with zipfile.ZipFile(file_path, 'r') as zip_ref:\n",
    "    zip_ref.extractall('./data/')"
   ]
  },
  {
   "cell_type": "code",
   "execution_count": 18,
   "metadata": {},
   "outputs": [],
   "source": [
    "# Using MAX_NEWS to limit the data for our limited hardware\n",
    "news = pd.read_csv('./data/labelled_newscatcher_dataset.csv', sep=';')\n",
    "MAX_NEWS = 1000\n",
    "DOCUMENT=\"title\"\n",
    "TOPIC=\"topic\"\n",
    "subset_news = news.head(MAX_NEWS)"
   ]
  },
  {
   "cell_type": "markdown",
   "metadata": {},
   "source": [
    "ChromaDB requires that the data has a unique identifier. You can achieve it with the statement below, which will create a new column called Id."
   ]
  },
  {
   "cell_type": "code",
   "execution_count": 13,
   "metadata": {},
   "outputs": [
    {
     "data": {
      "text/html": [
       "<div>\n",
       "<style scoped>\n",
       "    .dataframe tbody tr th:only-of-type {\n",
       "        vertical-align: middle;\n",
       "    }\n",
       "\n",
       "    .dataframe tbody tr th {\n",
       "        vertical-align: top;\n",
       "    }\n",
       "\n",
       "    .dataframe thead th {\n",
       "        text-align: right;\n",
       "    }\n",
       "</style>\n",
       "<table border=\"1\" class=\"dataframe\">\n",
       "  <thead>\n",
       "    <tr style=\"text-align: right;\">\n",
       "      <th></th>\n",
       "      <th>topic</th>\n",
       "      <th>link</th>\n",
       "      <th>domain</th>\n",
       "      <th>published_date</th>\n",
       "      <th>title</th>\n",
       "      <th>lang</th>\n",
       "      <th>id</th>\n",
       "    </tr>\n",
       "  </thead>\n",
       "  <tbody>\n",
       "    <tr>\n",
       "      <th>0</th>\n",
       "      <td>SCIENCE</td>\n",
       "      <td>https://www.eurekalert.org/pub_releases/2020-0...</td>\n",
       "      <td>eurekalert.org</td>\n",
       "      <td>2020-08-06 13:59:45</td>\n",
       "      <td>A closer look at water-splitting's solar fuel ...</td>\n",
       "      <td>en</td>\n",
       "      <td>0</td>\n",
       "    </tr>\n",
       "    <tr>\n",
       "      <th>1</th>\n",
       "      <td>SCIENCE</td>\n",
       "      <td>https://www.pulse.ng/news/world/an-irresistibl...</td>\n",
       "      <td>pulse.ng</td>\n",
       "      <td>2020-08-12 15:14:19</td>\n",
       "      <td>An irresistible scent makes locusts swarm, stu...</td>\n",
       "      <td>en</td>\n",
       "      <td>1</td>\n",
       "    </tr>\n",
       "    <tr>\n",
       "      <th>2</th>\n",
       "      <td>SCIENCE</td>\n",
       "      <td>https://www.express.co.uk/news/science/1322607...</td>\n",
       "      <td>express.co.uk</td>\n",
       "      <td>2020-08-13 21:01:00</td>\n",
       "      <td>Artificial intelligence warning: AI will know ...</td>\n",
       "      <td>en</td>\n",
       "      <td>2</td>\n",
       "    </tr>\n",
       "  </tbody>\n",
       "</table>\n",
       "</div>"
      ],
      "text/plain": [
       "     topic                                               link          domain  \\\n",
       "0  SCIENCE  https://www.eurekalert.org/pub_releases/2020-0...  eurekalert.org   \n",
       "1  SCIENCE  https://www.pulse.ng/news/world/an-irresistibl...        pulse.ng   \n",
       "2  SCIENCE  https://www.express.co.uk/news/science/1322607...   express.co.uk   \n",
       "\n",
       "        published_date                                              title  \\\n",
       "0  2020-08-06 13:59:45  A closer look at water-splitting's solar fuel ...   \n",
       "1  2020-08-12 15:14:19  An irresistible scent makes locusts swarm, stu...   \n",
       "2  2020-08-13 21:01:00  Artificial intelligence warning: AI will know ...   \n",
       "\n",
       "  lang  id  \n",
       "0   en   0  \n",
       "1   en   1  \n",
       "2   en   2  "
      ]
     },
     "execution_count": 13,
     "metadata": {},
     "output_type": "execute_result"
    }
   ],
   "source": [
    "news[\"id\"] = news.index\n",
    "news.head(3)"
   ]
  },
  {
   "cell_type": "markdown",
   "metadata": {},
   "source": [
    "# ChromaDB"
   ]
  },
  {
   "cell_type": "code",
   "execution_count": 14,
   "metadata": {},
   "outputs": [],
   "source": [
    "import chromadb\n",
    "from chromadb.config import Settings"
   ]
  },
  {
   "cell_type": "code",
   "execution_count": 15,
   "metadata": {},
   "outputs": [],
   "source": [
    "chroma_client = chromadb.PersistentClient(path=\"./db\")"
   ]
  },
  {
   "cell_type": "code",
   "execution_count": 16,
   "metadata": {},
   "outputs": [],
   "source": [
    "collection_name = \"news_collection\"\n",
    "if len(chroma_client.list_collections()) > 0 and collection_name in [chroma_client.list_collections()[0].name]:\n",
    "        chroma_client.delete_collection(name=collection_name)\n",
    "collection = chroma_client.create_collection(name=collection_name)"
   ]
  },
  {
   "cell_type": "code",
   "execution_count": 19,
   "metadata": {},
   "outputs": [
    {
     "name": "stderr",
     "output_type": "stream",
     "text": [
      "\u001b[0;93m2024-08-15 09:41:33.375829 [W:onnxruntime:, helper.cc:82 IsInputSupported] CoreML does not support input dim > 16384. Input:embeddings.word_embeddings.weight, shape: {30522,384}\u001b[m\n",
      "\u001b[0;93m2024-08-15 09:41:33.376229 [W:onnxruntime:, coreml_execution_provider.cc:104 GetCapability] CoreMLExecutionProvider::GetCapability, number of partitions supported by CoreML: 49 number of nodes in the graph: 323 number of nodes supported by CoreML: 231\u001b[m\n"
     ]
    }
   ],
   "source": [
    "collection.add(\n",
    "    documents=subset_news[DOCUMENT].tolist(),\n",
    "    metadatas=[{TOPIC: topic} for topic in subset_news[TOPIC].tolist()],\n",
    "    ids=[f\"id{x}\" for x in range(MAX_NEWS)],\n",
    ")"
   ]
  },
  {
   "cell_type": "markdown",
   "metadata": {},
   "source": [
    "# Filling and Querying the ChromaDB Database"
   ]
  },
  {
   "cell_type": "code",
   "execution_count": 20,
   "metadata": {},
   "outputs": [],
   "source": [
    "from datetime import datetime"
   ]
  },
  {
   "cell_type": "code",
   "execution_count": 21,
   "metadata": {},
   "outputs": [],
   "source": [
    "collection_name = \"news_collection\"+datetime.now().strftime(\"%s\")\n",
    "if len(chroma_client.list_collections()) > 0 and collection_name in [chroma_client.list_collections()[0].name]:\n",
    "        chroma_client.delete_collection(name=collection_name)\n",
    "\n",
    "collection = chroma_client.create_collection(name=collection_name)"
   ]
  },
  {
   "cell_type": "code",
   "execution_count": 22,
   "metadata": {},
   "outputs": [],
   "source": [
    "collection.add(\n",
    "    documents=subset_news[DOCUMENT].tolist(),\n",
    "    metadatas=[{TOPIC: topic} for topic in subset_news[TOPIC].tolist()],\n",
    "    ids=[f\"id{x}\" for x in range(MAX_NEWS)],\n",
    ")"
   ]
  },
  {
   "cell_type": "code",
   "execution_count": 24,
   "metadata": {},
   "outputs": [
    {
     "name": "stdout",
     "output_type": "stream",
     "text": [
      "{'ids': [['id173', 'id829', 'id117', 'id535', 'id141', 'id218', 'id390', 'id273', 'id56', 'id900']], 'distances': [[0.8593513369560242, 1.029434323310852, 1.0793386697769165, 1.092977523803711, 1.1329509019851685, 1.2130101919174194, 1.2143404483795166, 1.2163968086242676, 1.2220265865325928, 1.2753719091415405]], 'metadatas': [[{'topic': 'TECHNOLOGY'}, {'topic': 'TECHNOLOGY'}, {'topic': 'TECHNOLOGY'}, {'topic': 'TECHNOLOGY'}, {'topic': 'TECHNOLOGY'}, {'topic': 'TECHNOLOGY'}, {'topic': 'TECHNOLOGY'}, {'topic': 'TECHNOLOGY'}, {'topic': 'TECHNOLOGY'}, {'topic': 'TECHNOLOGY'}]], 'embeddings': None, 'documents': [['The Legendary Toshiba is Officially Done With Making Laptops', '3 gaming laptop deals you can’t afford to miss today', 'Lenovo and HP control half of the global laptop market', 'Asus ROG Zephyrus G14 gaming laptop announced in India', 'Acer Swift 3 featuring a 10th-generation Intel Ice Lake CPU, 2K screen, and more launched in India for INR 64999 (US$865)', \"Apple's Next MacBook Could Be the Cheapest in Company's History\", \"Features of Huawei's Desktop Computer Revealed\", 'Redmi to launch its first gaming laptop on August 14: Here are all the details', 'Toshiba shuts the lid on laptops after 35 years', 'This is the cheapest Windows PC by a mile and it even has a spare SSD slot']], 'uris': None, 'data': None}\n"
     ]
    }
   ],
   "source": [
    "results = collection.query(query_texts=[\"laptop\"], n_results=10 )\n",
    "\n",
    "print(results)"
   ]
  },
  {
   "cell_type": "markdown",
   "metadata": {},
   "source": [
    "# Vector Map"
   ]
  },
  {
   "cell_type": "code",
   "execution_count": 26,
   "metadata": {},
   "outputs": [],
   "source": [
    "import matplotlib.pyplot as plt\n",
    "from sklearn.decomposition import PCA"
   ]
  },
  {
   "cell_type": "code",
   "execution_count": 27,
   "metadata": {},
   "outputs": [],
   "source": [
    "getado = collection.get(ids=\"id141\",\n",
    "                       include=[\"documents\", \"embeddings\"])"
   ]
  },
  {
   "cell_type": "code",
   "execution_count": 28,
   "metadata": {},
   "outputs": [
    {
     "data": {
      "text/plain": [
       "[[-0.08085300773382187,\n",
       "  -0.04996924847364426,\n",
       "  -0.023777848109602928,\n",
       "  -0.01105515193194151,\n",
       "  0.026662329211831093,\n",
       "  -0.04479314759373665,\n",
       "  -0.028894929215312004,\n",
       "  0.026656920090317726,\n",
       "  0.0014408831484615803,\n",
       "  -0.016409534960985184,\n",
       "  0.06534290313720703,\n",
       "  -0.06901559978723526,\n",
       "  -0.057479437440633774,\n",
       "  0.010111069306731224,\n",
       "  0.050431180745363235,\n",
       "  -0.0020670080557465553,\n",
       "  0.07256121933460236,\n",
       "  -0.12437129765748978,\n",
       "  0.010660870932042599,\n",
       "  -0.10942178964614868,\n",
       "  -0.011435404419898987,\n",
       "  -0.010370778851211071,\n",
       "  -0.020607078447937965,\n",
       "  -0.02439030632376671,\n",
       "  0.07829038798809052,\n",
       "  0.005822318606078625,\n",
       "  0.023322677239775658,\n",
       "  -0.08244234323501587,\n",
       "  -0.027263037860393524,\n",
       "  0.004673689138144255,\n",
       "  0.004337726626545191,\n",
       "  0.03252646327018738,\n",
       "  -0.026033250615000725,\n",
       "  0.0796395093202591,\n",
       "  0.04218673333525658,\n",
       "  -0.12119845300912857,\n",
       "  0.04906683787703514,\n",
       "  -0.07625890523195267,\n",
       "  0.04331577941775322,\n",
       "  -0.08360300958156586,\n",
       "  -0.071403369307518,\n",
       "  -0.018793810158967972,\n",
       "  0.03604629263281822,\n",
       "  0.042847372591495514,\n",
       "  0.0257550161331892,\n",
       "  0.03973137214779854,\n",
       "  -0.007090786937624216,\n",
       "  0.03518873453140259,\n",
       "  0.027371680364012718,\n",
       "  0.00929010845720768,\n",
       "  -0.03916073217988014,\n",
       "  -0.03740333765745163,\n",
       "  -0.03369887173175812,\n",
       "  -0.06542957574129105,\n",
       "  0.01919996552169323,\n",
       "  -0.009083704091608524,\n",
       "  0.02251233346760273,\n",
       "  -0.043473053723573685,\n",
       "  0.036632146686315536,\n",
       "  0.09003472328186035,\n",
       "  0.037532318383455276,\n",
       "  -0.046991586685180664,\n",
       "  -0.021450093016028404,\n",
       "  0.04902038350701332,\n",
       "  0.0008783233352005482,\n",
       "  -0.049101997166872025,\n",
       "  0.019654391333460808,\n",
       "  -0.11427130550146103,\n",
       "  -0.004122531972825527,\n",
       "  -0.05936245620250702,\n",
       "  0.08289466053247452,\n",
       "  -0.015199905261397362,\n",
       "  0.058002423495054245,\n",
       "  -0.009101839736104012,\n",
       "  -0.0661906749010086,\n",
       "  -0.049952033907175064,\n",
       "  0.05143161118030548,\n",
       "  -0.030699677765369415,\n",
       "  -0.005996839143335819,\n",
       "  -0.01743796281516552,\n",
       "  -0.006714227609336376,\n",
       "  -0.026864292100071907,\n",
       "  0.0098017118871212,\n",
       "  0.01269474532455206,\n",
       "  -0.01724509336054325,\n",
       "  -0.040726207196712494,\n",
       "  0.026190098375082016,\n",
       "  -0.03633245453238487,\n",
       "  -0.005994252860546112,\n",
       "  -0.03835133835673332,\n",
       "  -0.0025639107916504145,\n",
       "  0.017820056527853012,\n",
       "  0.015635818243026733,\n",
       "  -0.0024232850410044193,\n",
       "  -0.0469365119934082,\n",
       "  0.014941413886845112,\n",
       "  0.05784860625863075,\n",
       "  -0.04266658425331116,\n",
       "  -0.05196012184023857,\n",
       "  0.07029678672552109,\n",
       "  0.017414497211575508,\n",
       "  0.01044938899576664,\n",
       "  0.06522037833929062,\n",
       "  -0.0005427023861557245,\n",
       "  -0.007274697534739971,\n",
       "  -0.017647352069616318,\n",
       "  -0.013440944254398346,\n",
       "  0.04487906023859978,\n",
       "  -0.04049065336585045,\n",
       "  0.05065980553627014,\n",
       "  -0.006971193943172693,\n",
       "  -0.03902294486761093,\n",
       "  -0.06117052212357521,\n",
       "  0.00961641687899828,\n",
       "  -0.01937711425125599,\n",
       "  -0.07260206341743469,\n",
       "  -0.05417630076408386,\n",
       "  -0.01220516674220562,\n",
       "  0.14574086666107178,\n",
       "  0.0772952139377594,\n",
       "  -0.03489653766155243,\n",
       "  0.020008103922009468,\n",
       "  -0.009714683517813683,\n",
       "  -0.00232904520817101,\n",
       "  -0.08878394216299057,\n",
       "  0.007421207148581743,\n",
       "  -0.022459957748651505,\n",
       "  2.9391070761311894e-33,\n",
       "  -0.032260555773973465,\n",
       "  0.026465989649295807,\n",
       "  -0.06441900879144669,\n",
       "  -0.10495578497648239,\n",
       "  0.007915230467915535,\n",
       "  -0.05623495206236839,\n",
       "  0.06006183475255966,\n",
       "  0.020357763394713402,\n",
       "  0.008405598811805248,\n",
       "  0.003938404377549887,\n",
       "  -0.07579667866230011,\n",
       "  -0.059284456074237823,\n",
       "  -0.0709027424454689,\n",
       "  0.04760454222559929,\n",
       "  0.12866002321243286,\n",
       "  -0.09145811945199966,\n",
       "  -0.06453312933444977,\n",
       "  -0.02272159419953823,\n",
       "  -0.007940074428915977,\n",
       "  0.08817238360643387,\n",
       "  0.030397944152355194,\n",
       "  -0.08102244138717651,\n",
       "  -0.004709327593445778,\n",
       "  0.008307901211082935,\n",
       "  -0.008210439234972,\n",
       "  0.044835276901721954,\n",
       "  0.003637825371697545,\n",
       "  -0.015380168333649635,\n",
       "  0.0694148987531662,\n",
       "  0.026239626109600067,\n",
       "  0.042121995240449905,\n",
       "  -0.02259840816259384,\n",
       "  -0.004684046842157841,\n",
       "  -0.0860903188586235,\n",
       "  -0.001696067862212658,\n",
       "  -0.03647049143910408,\n",
       "  0.031046343967318535,\n",
       "  -0.07396647334098816,\n",
       "  0.0006459977012127638,\n",
       "  0.05768761411309242,\n",
       "  -0.03433417156338692,\n",
       "  0.10101369023323059,\n",
       "  -0.07978074252605438,\n",
       "  -0.017710871994495392,\n",
       "  0.03583330288529396,\n",
       "  0.07763230800628662,\n",
       "  0.00719549972563982,\n",
       "  0.05085271596908569,\n",
       "  0.03166745975613594,\n",
       "  -0.050250399857759476,\n",
       "  -0.11920394003391266,\n",
       "  -0.0021295747719705105,\n",
       "  -0.010736501775681973,\n",
       "  -0.048259370028972626,\n",
       "  0.05193373188376427,\n",
       "  -0.0033567154314368963,\n",
       "  0.045714929699897766,\n",
       "  -0.006319770589470863,\n",
       "  0.13073799014091492,\n",
       "  0.056945256888866425,\n",
       "  -0.10317441076040268,\n",
       "  -0.02195170521736145,\n",
       "  -0.05124692991375923,\n",
       "  -0.006673457566648722,\n",
       "  -0.04244350269436836,\n",
       "  0.0728345587849617,\n",
       "  0.08295292407274246,\n",
       "  -0.014511661604046822,\n",
       "  -0.050435230135917664,\n",
       "  -0.006396379321813583,\n",
       "  -0.05111626163125038,\n",
       "  -0.060894716531038284,\n",
       "  0.12017901241779327,\n",
       "  -0.007003804203122854,\n",
       "  -0.01835504360496998,\n",
       "  0.057376064360141754,\n",
       "  -0.06952633708715439,\n",
       "  -0.032906584441661835,\n",
       "  -0.04601367935538292,\n",
       "  -0.040269769728183746,\n",
       "  -0.03973834961652756,\n",
       "  0.04068202152848244,\n",
       "  0.06414391100406647,\n",
       "  0.08901480585336685,\n",
       "  -0.0006051167147234082,\n",
       "  0.06864605098962784,\n",
       "  -0.04542132094502449,\n",
       "  -0.012834972701966763,\n",
       "  0.014706917107105255,\n",
       "  0.08228718489408493,\n",
       "  -0.011860989034175873,\n",
       "  -0.007569159381091595,\n",
       "  0.029482435435056686,\n",
       "  -0.01755381189286709,\n",
       "  0.030269086360931396,\n",
       "  -3.444445301722975e-33,\n",
       "  0.013099606148898602,\n",
       "  -0.0564233735203743,\n",
       "  -0.05393267050385475,\n",
       "  0.020105138421058655,\n",
       "  0.0021794328931719065,\n",
       "  0.02147231623530388,\n",
       "  -0.01675262302160263,\n",
       "  0.11519830673933029,\n",
       "  0.009138618595898151,\n",
       "  0.0027901504654437304,\n",
       "  -0.028138024732470512,\n",
       "  0.0888483002781868,\n",
       "  0.07290325313806534,\n",
       "  0.029724856838583946,\n",
       "  0.03314259275794029,\n",
       "  -0.03830823302268982,\n",
       "  -0.015429715625941753,\n",
       "  -0.02588982880115509,\n",
       "  0.029912563040852547,\n",
       "  0.021463457494974136,\n",
       "  0.05598585680127144,\n",
       "  0.024118969216942787,\n",
       "  0.013596903532743454,\n",
       "  0.001851285109296441,\n",
       "  0.04671206325292587,\n",
       "  0.019654786214232445,\n",
       "  -0.06109899282455444,\n",
       "  0.006502368953078985,\n",
       "  0.04412972182035446,\n",
       "  -0.030409496277570724,\n",
       "  0.003392130136489868,\n",
       "  -0.07827913016080856,\n",
       "  0.0820065438747406,\n",
       "  0.021948140114545822,\n",
       "  -0.042144838720560074,\n",
       "  -0.01104668714106083,\n",
       "  0.11222107708454132,\n",
       "  -0.03547029197216034,\n",
       "  -0.020339244976639748,\n",
       "  0.05863533169031143,\n",
       "  0.061948057264089584,\n",
       "  0.004170431289821863,\n",
       "  0.02561192214488983,\n",
       "  0.07054588198661804,\n",
       "  0.02661062404513359,\n",
       "  0.0390167236328125,\n",
       "  -0.0028291726484894753,\n",
       "  -0.013859809376299381,\n",
       "  -0.03907125070691109,\n",
       "  -0.10136973112821579,\n",
       "  0.015267438255250454,\n",
       "  -0.06360352784395218,\n",
       "  0.009432414546608925,\n",
       "  -0.03778057545423508,\n",
       "  -0.07231740653514862,\n",
       "  -0.05598202720284462,\n",
       "  0.01462709903717041,\n",
       "  0.006302502006292343,\n",
       "  0.03660421445965767,\n",
       "  -0.07091446220874786,\n",
       "  0.034552786499261856,\n",
       "  0.021304970607161522,\n",
       "  0.01893601007759571,\n",
       "  0.0193184781819582,\n",
       "  0.007074940018355846,\n",
       "  0.01861700229346752,\n",
       "  0.050894107669591904,\n",
       "  0.033370278775691986,\n",
       "  -0.008645828813314438,\n",
       "  -0.023819969967007637,\n",
       "  -0.05765654519200325,\n",
       "  -0.1048266664147377,\n",
       "  0.013369129970669746,\n",
       "  -0.01933411881327629,\n",
       "  -0.01636049710214138,\n",
       "  0.04313385486602783,\n",
       "  -0.019308265298604965,\n",
       "  0.04287341982126236,\n",
       "  0.07228819280862808,\n",
       "  -0.0042228978127241135,\n",
       "  0.025139855220913887,\n",
       "  0.0757623091340065,\n",
       "  0.03338656201958656,\n",
       "  0.022970249876379967,\n",
       "  0.07684879004955292,\n",
       "  -0.05226103588938713,\n",
       "  0.04329066723585129,\n",
       "  -0.012378270737826824,\n",
       "  -0.0365896001458168,\n",
       "  -0.012781507335603237,\n",
       "  -0.04614093154668808,\n",
       "  0.051982104778289795,\n",
       "  -0.0611286498606205,\n",
       "  -0.00034312770003452897,\n",
       "  -0.006176755763590336,\n",
       "  -2.835624890451527e-08,\n",
       "  0.06613817065954208,\n",
       "  0.011790378019213676,\n",
       "  0.03711455315351486,\n",
       "  0.046970728784799576,\n",
       "  0.04303695634007454,\n",
       "  -0.09251048415899277,\n",
       "  0.04613921791315079,\n",
       "  0.08055493980646133,\n",
       "  0.10684584826231003,\n",
       "  -0.0074118697084486485,\n",
       "  -0.04132029786705971,\n",
       "  -0.0830378457903862,\n",
       "  -0.018206223845481873,\n",
       "  0.013730216771364212,\n",
       "  0.043951958417892456,\n",
       "  0.03730495646595955,\n",
       "  0.033154599368572235,\n",
       "  0.08817184716463089,\n",
       "  0.001988803967833519,\n",
       "  -0.07271221280097961,\n",
       "  0.02305963821709156,\n",
       "  0.04958486557006836,\n",
       "  0.0986521765589714,\n",
       "  -0.09664095193147659,\n",
       "  -0.03899352625012398,\n",
       "  0.04047814756631851,\n",
       "  -0.05304050073027611,\n",
       "  0.0304854828864336,\n",
       "  0.06002313271164894,\n",
       "  0.010914157144725323,\n",
       "  -0.10207867622375488,\n",
       "  0.039627816528081894,\n",
       "  0.03992314264178276,\n",
       "  -0.08412693440914154,\n",
       "  0.09101061522960663,\n",
       "  -0.061237797141075134,\n",
       "  -0.03716898337006569,\n",
       "  -0.01902410201728344,\n",
       "  0.0963134914636612,\n",
       "  -0.024577466771006584,\n",
       "  -0.010753254406154156,\n",
       "  0.0013015236472710967,\n",
       "  -0.07538621872663498,\n",
       "  -0.018940243870019913,\n",
       "  0.05480078235268593,\n",
       "  0.0030675639864057302,\n",
       "  -0.10229567438364029,\n",
       "  -0.10274659842252731,\n",
       "  0.0010229120962321758,\n",
       "  0.03838691860437393,\n",
       "  -0.033870093524456024,\n",
       "  -0.006812650244683027,\n",
       "  -0.028705602511763573,\n",
       "  0.061822663992643356,\n",
       "  0.01225685141980648,\n",
       "  0.02560589648783207,\n",
       "  -0.03962494432926178,\n",
       "  -0.06301850080490112,\n",
       "  -0.10198599100112915,\n",
       "  0.09703481197357178,\n",
       "  0.12164786458015442,\n",
       "  -0.10480721294879913,\n",
       "  -0.04798180237412453,\n",
       "  0.07280842214822769]]"
      ]
     },
     "execution_count": 28,
     "metadata": {},
     "output_type": "execute_result"
    }
   ],
   "source": [
    "word_vectors = getado[\"embeddings\"]\n",
    "word_list = getado[\"documents\"]\n",
    "word_vectors"
   ]
  },
  {
   "cell_type": "markdown",
   "metadata": {},
   "source": [
    "# Loading the model and creating the prompt"
   ]
  },
  {
   "cell_type": "code",
   "execution_count": 29,
   "metadata": {},
   "outputs": [],
   "source": [
    "from transformers import AutoTokenizer, AutoModelForCausalLM, pipeline\n",
    "\n",
    "model_id = \"TinyLlama/TinyLlama-1.1B-Chat-v1.0\"\n",
    "#model_id = \"databricks/dolly-v2-3b\"\n",
    "tokenizer = AutoTokenizer.from_pretrained(model_id)\n",
    "lm_model = AutoModelForCausalLM.from_pretrained(model_id, trust_remote_code=True)"
   ]
  },
  {
   "cell_type": "code",
   "execution_count": 32,
   "metadata": {},
   "outputs": [],
   "source": [
    "pipe = pipeline(\n",
    "    \"text-generation\",\n",
    "    model=lm_model,\n",
    "    tokenizer=tokenizer,\n",
    "    max_new_tokens=256,\n",
    "    device_map=\"auto\",\n",
    ")"
   ]
  },
  {
   "cell_type": "markdown",
   "metadata": {},
   "source": [
    "# Creating the extended prompt"
   ]
  },
  {
   "cell_type": "code",
   "execution_count": 30,
   "metadata": {},
   "outputs": [
    {
     "data": {
      "text/plain": [
       "\"\\nRelevant context: #The Legendary Toshiba is Officially Done With Making Laptops #3 gaming laptop deals you can’t afford to miss today #Lenovo and HP control half of the global laptop market #Asus ROG Zephyrus G14 gaming laptop announced in India #Acer Swift 3 featuring a 10th-generation Intel Ice Lake CPU, 2K screen, and more launched in India for INR 64999 (US$865) #Apple's Next MacBook Could Be the Cheapest in Company's History #Features of Huawei's Desktop Computer Revealed #Redmi to launch its first gaming laptop on August 14: Here are all the details #Toshiba shuts the lid on laptops after 35 years #This is the cheapest Windows PC by a mile and it even has a spare SSD slot\\nConsidering the relevant context, answer the question.\\nQuestion: Can I buy a new Toshiba laptop?\\nAnswer: \""
      ]
     },
     "execution_count": 30,
     "metadata": {},
     "output_type": "execute_result"
    }
   ],
   "source": [
    "question = \"Can I buy a new Toshiba laptop?\"\n",
    "context = \" \".join([f\"#{str(i)}\" for i in results[\"documents\"][0]])\n",
    "#context = context[0:5120]\n",
    "prompt_template = f\"\"\"\n",
    "Relevant context: {context}\n",
    "Considering the relevant context, answer the question.\n",
    "Question: {question}\n",
    "Answer: \"\"\"\n",
    "prompt_template"
   ]
  },
  {
   "cell_type": "code",
   "execution_count": 33,
   "metadata": {},
   "outputs": [
    {
     "name": "stdout",
     "output_type": "stream",
     "text": [
      "\n",
      "Relevant context: #The Legendary Toshiba is Officially Done With Making Laptops #3 gaming laptop deals you can’t afford to miss today #Lenovo and HP control half of the global laptop market #Asus ROG Zephyrus G14 gaming laptop announced in India #Acer Swift 3 featuring a 10th-generation Intel Ice Lake CPU, 2K screen, and more launched in India for INR 64999 (US$865) #Apple's Next MacBook Could Be the Cheapest in Company's History #Features of Huawei's Desktop Computer Revealed #Redmi to launch its first gaming laptop on August 14: Here are all the details #Toshiba shuts the lid on laptops after 35 years #This is the cheapest Windows PC by a mile and it even has a spare SSD slot\n",
      "Considering the relevant context, answer the question.\n",
      "Question: Can I buy a new Toshiba laptop?\n",
      "Answer: \n",
      "Based on the given material, the answer to the question is no. Toshiba has discontinued making laptops.\n"
     ]
    }
   ],
   "source": [
    "lm_response = pipe(prompt_template)\n",
    "print(lm_response[0][\"generated_text\"])"
   ]
  },
  {
   "cell_type": "code",
   "execution_count": null,
   "metadata": {},
   "outputs": [],
   "source": []
  }
 ],
 "metadata": {
  "kernelspec": {
   "display_name": "ml",
   "language": "python",
   "name": "python3"
  },
  "language_info": {
   "codemirror_mode": {
    "name": "ipython",
    "version": 3
   },
   "file_extension": ".py",
   "mimetype": "text/x-python",
   "name": "python",
   "nbconvert_exporter": "python",
   "pygments_lexer": "ipython3",
   "version": "3.12.3"
  }
 },
 "nbformat": 4,
 "nbformat_minor": 2
}
